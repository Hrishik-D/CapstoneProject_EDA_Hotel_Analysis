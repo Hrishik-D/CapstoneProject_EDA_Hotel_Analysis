{
  "nbformat": 4,
  "nbformat_minor": 0,
  "metadata": {
    "colab": {
      "provenance": [],
      "collapsed_sections": [
        "w6K7xa23Elo4",
        "H0kj-8xxnORC",
        "nA9Y7ga8ng1Z",
        "PBTbrJXOngz2",
        "u3PMJOP6ngxN",
        "dauF4eBmngu3",
        "bKJF3rekwFvQ",
        "MSa1f5Uengrz",
        "GF8Ens_Soomf",
        "0wOQAZs5pc--",
        "K5QZ13OEpz2H",
        "lQ7QKXXCp7Bj",
        "448CDAPjqfQr",
        "KSlN3yHqYklG",
        "t6dVpIINYklI",
        "ijmpgYnKYklI",
        "-JiQyfWJYklI",
        "EM7whBJCYoAo",
        "fge-S5ZAYoAp",
        "85gYPyotYoAp",
        "RoGjAbkUYoAp",
        "4Of9eVA-YrdM",
        "iky9q4vBYrdO",
        "F6T5p64dYrdO",
        "y-Ehk30pYrdP",
        "bamQiAODYuh1",
        "QHF8YVU7Yuh3",
        "GwzvFGzlYuh3",
        "qYpmQ266Yuh3",
        "OH-pJp9IphqM",
        "bbFf2-_FphqN",
        "_ouA3fa0phqN",
        "Seke61FWphqN",
        "PIIx-8_IphqN",
        "t27r6nlMphqO",
        "r2jJGEOYphqO",
        "b0JNsNcRphqO",
        "BZR9WyysphqO",
        "jj7wYXLtphqO",
        "eZrbJ2SmphqO",
        "rFu4xreNphqO",
        "YJ55k-q6phqO",
        "gCFgpxoyphqP",
        "OVtJsKN_phqQ",
        "lssrdh5qphqQ",
        "U2RJ9gkRphqQ",
        "1M8mcRywphqQ",
        "tgIPom80phqQ",
        "JMzcOPDDphqR",
        "x-EpHcCOp1ci",
        "X_VqEhTip1ck",
        "8zGJKyg5p1ck",
        "PVzmfK_Ep1ck",
        "n3dbpmDWp1ck",
        "ylSl6qgtp1ck",
        "ZWILFDl5p1ck",
        "M7G43BXep1ck",
        "Ag9LCva-p1cl",
        "E6MkPsBcp1cl",
        "2cELzS2fp1cl",
        "3MPXvC8up1cl",
        "NC_X3p0fY2L0",
        "UV0SzAkaZNRQ",
        "YPEH6qLeZNRQ",
        "q29F0dvdveiT",
        "EXh0U9oCveiU",
        "22aHeOlLveiV",
        "JcMwzZxoAimU",
        "8G2x9gOozGDZ",
        "gCX9965dhzqZ",
        "gIfDvo9L0UH2"
      ],
      "include_colab_link": true
    },
    "kernelspec": {
      "name": "python3",
      "display_name": "Python 3"
    },
    "language_info": {
      "name": "python"
    }
  },
  "cells": [
    {
      "cell_type": "markdown",
      "metadata": {
        "id": "view-in-github",
        "colab_type": "text"
      },
      "source": [
        "<a href=\"https://colab.research.google.com/github/Hrishik-D/CapstoneProject_EDA_Hotel_Analysis/blob/main/EDA_Hotel_Analysis_Individual.ipynb\" target=\"_parent\"><img src=\"https://colab.research.google.com/assets/colab-badge.svg\" alt=\"Open In Colab\"/></a>"
      ]
    },
    {
      "cell_type": "markdown",
      "source": [
        "# **Project Name**    -\n",
        "\n"
      ],
      "metadata": {
        "id": "vncDsAP0Gaoa"
      }
    },
    {
      "cell_type": "markdown",
      "source": [
        "##### **Project Type**    - EDA\n",
        "##### **Contribution**    - Team\n",
        "##### **Team Member 1 -** Hrishik Debnath"
      ],
      "metadata": {
        "id": "beRrZCGUAJYm"
      }
    },
    {
      "cell_type": "markdown",
      "source": [
        "# **Project Summary -**"
      ],
      "metadata": {
        "id": "FJNUwmbgGyua"
      }
    },
    {
      "cell_type": "markdown",
      "source": [
        "Data analysis of hotel bookings is a crucial process that involves examining and extracting valuable insights from various datasets related to hotel reservations. This analysis is performed to optimize hotel operations, improve customer satisfaction, and enhance revenue management.\n",
        "\n"
      ],
      "metadata": {
        "id": "F6v_1wHtG2nS"
      }
    },
    {
      "cell_type": "markdown",
      "source": [
        "# **GitHub Link -**"
      ],
      "metadata": {
        "id": "w6K7xa23Elo4"
      }
    },
    {
      "cell_type": "markdown",
      "source": [
        "Provide your GitHub Link here."
      ],
      "metadata": {
        "id": "h1o69JH3Eqqn"
      }
    },
    {
      "cell_type": "markdown",
      "source": [
        "# **Problem Statement**\n"
      ],
      "metadata": {
        "id": "yQaldy8SH6Dl"
      }
    },
    {
      "cell_type": "markdown",
      "source": [
        "**Write Problem Statement Here.**"
      ],
      "metadata": {
        "id": "DpeJGUA3kjGy"
      }
    },
    {
      "cell_type": "markdown",
      "source": [
        "#### **Define Your Business Objective?**"
      ],
      "metadata": {
        "id": "PH-0ReGfmX4f"
      }
    },
    {
      "cell_type": "markdown",
      "source": [
        "Answer Here."
      ],
      "metadata": {
        "id": "PhDvGCAqmjP1"
      }
    },
    {
      "cell_type": "markdown",
      "source": [
        "# **General Guidelines** : -  "
      ],
      "metadata": {
        "id": "mDgbUHAGgjLW"
      }
    },
    {
      "cell_type": "markdown",
      "source": [
        "1.   Well-structured, formatted, and commented code is required.\n",
        "2.   Exception Handling, Production Grade Code & Deployment Ready Code will be a plus. Those students will be awarded some additional credits.\n",
        "     \n",
        "     The additional credits will have advantages over other students during Star Student selection.\n",
        "       \n",
        "             [ Note: - Deployment Ready Code is defined as, the whole .ipynb notebook should be executable in one go\n",
        "                       without a single error logged. ]\n",
        "\n",
        "3.   Each and every logic should have proper comments.\n",
        "4. You may add as many number of charts you want. Make Sure for each and every chart the following format should be answered.\n",
        "        \n",
        "\n",
        "```\n",
        "# Chart visualization code\n",
        "```\n",
        "            \n",
        "\n",
        "*   Why did you pick the specific chart?\n",
        "*   What is/are the insight(s) found from the chart?\n",
        "* Will the gained insights help creating a positive business impact?\n",
        "Are there any insights that lead to negative growth? Justify with specific reason.\n",
        "\n",
        "5. You have to create at least 20 logical & meaningful charts having important insights.\n",
        "\n",
        "\n",
        "[ Hints : - Do the Vizualization in  a structured way while following \"UBM\" Rule.\n",
        "\n",
        "U - Univariate Analysis,\n",
        "\n",
        "B - Bivariate Analysis (Numerical - Categorical, Numerical - Numerical, Categorical - Categorical)\n",
        "\n",
        "M - Multivariate Analysis\n",
        " ]\n",
        "\n",
        "\n",
        "\n"
      ],
      "metadata": {
        "id": "ZrxVaUj-hHfC"
      }
    },
    {
      "cell_type": "markdown",
      "source": [
        "# ***Let's Begin !***"
      ],
      "metadata": {
        "id": "O_i_v8NEhb9l"
      }
    },
    {
      "cell_type": "markdown",
      "source": [
        "## ***1. Know Your Data***"
      ],
      "metadata": {
        "id": "HhfV-JJviCcP"
      }
    },
    {
      "cell_type": "markdown",
      "source": [
        "### Import Libraries"
      ],
      "metadata": {
        "id": "Y3lxredqlCYt"
      }
    },
    {
      "cell_type": "code",
      "source": [
        "import numpy as np\n",
        "import pandas as pd\n",
        "import matplotlib\n",
        "import matplotlib.pyplot as plt\n",
        "import seaborn as sns"
      ],
      "metadata": {
        "id": "M8Vqi-pPk-HR"
      },
      "execution_count": 1,
      "outputs": []
    },
    {
      "cell_type": "markdown",
      "source": [
        "### Dataset Loading"
      ],
      "metadata": {
        "id": "3RnN4peoiCZX"
      }
    },
    {
      "cell_type": "code",
      "source": [
        "# Load Dataset\n",
        "from google.colab import drive                    # Mounting drive\n",
        "drive.mount('/content/drive')"
      ],
      "metadata": {
        "id": "4CkvbW_SlZ_R",
        "colab": {
          "base_uri": "https://localhost:8080/"
        },
        "outputId": "22b72a2b-3db9-4eaf-9d0d-0400207f7874"
      },
      "execution_count": 2,
      "outputs": [
        {
          "output_type": "stream",
          "name": "stdout",
          "text": [
            "Mounted at /content/drive\n"
          ]
        }
      ]
    },
    {
      "cell_type": "code",
      "source": [
        "df = pd.read_csv('/content/drive/MyDrive/AlmaBetter/Numerical Programming/Capstone Project/Hotel Bookings.csv')"
      ],
      "metadata": {
        "id": "epY8Y2-dTONN"
      },
      "execution_count": 3,
      "outputs": []
    },
    {
      "cell_type": "markdown",
      "source": [
        "### Dataset First View"
      ],
      "metadata": {
        "id": "x71ZqKXriCWQ"
      }
    },
    {
      "cell_type": "code",
      "source": [
        "# Dataset First Look\n",
        "df.head()"
      ],
      "metadata": {
        "id": "LWNFOSvLl09H",
        "colab": {
          "base_uri": "https://localhost:8080/",
          "height": 342
        },
        "outputId": "b16278b1-a867-4ab5-b4ac-7c7e86563d35"
      },
      "execution_count": 4,
      "outputs": [
        {
          "output_type": "execute_result",
          "data": {
            "text/plain": [
              "          hotel  is_canceled  lead_time  arrival_date_year arrival_date_month  \\\n",
              "0  Resort Hotel            0        342               2015               July   \n",
              "1  Resort Hotel            0        737               2015               July   \n",
              "2  Resort Hotel            0          7               2015               July   \n",
              "3  Resort Hotel            0         13               2015               July   \n",
              "4  Resort Hotel            0         14               2015               July   \n",
              "\n",
              "   arrival_date_week_number  arrival_date_day_of_month  \\\n",
              "0                        27                          1   \n",
              "1                        27                          1   \n",
              "2                        27                          1   \n",
              "3                        27                          1   \n",
              "4                        27                          1   \n",
              "\n",
              "   stays_in_weekend_nights  stays_in_week_nights  adults  ...  deposit_type  \\\n",
              "0                        0                     0       2  ...    No Deposit   \n",
              "1                        0                     0       2  ...    No Deposit   \n",
              "2                        0                     1       1  ...    No Deposit   \n",
              "3                        0                     1       1  ...    No Deposit   \n",
              "4                        0                     2       2  ...    No Deposit   \n",
              "\n",
              "   agent company days_in_waiting_list customer_type   adr  \\\n",
              "0    NaN     NaN                    0     Transient   0.0   \n",
              "1    NaN     NaN                    0     Transient   0.0   \n",
              "2    NaN     NaN                    0     Transient  75.0   \n",
              "3  304.0     NaN                    0     Transient  75.0   \n",
              "4  240.0     NaN                    0     Transient  98.0   \n",
              "\n",
              "   required_car_parking_spaces  total_of_special_requests  reservation_status  \\\n",
              "0                            0                          0           Check-Out   \n",
              "1                            0                          0           Check-Out   \n",
              "2                            0                          0           Check-Out   \n",
              "3                            0                          0           Check-Out   \n",
              "4                            0                          1           Check-Out   \n",
              "\n",
              "  reservation_status_date  \n",
              "0              2015-07-01  \n",
              "1              2015-07-01  \n",
              "2              2015-07-02  \n",
              "3              2015-07-02  \n",
              "4              2015-07-03  \n",
              "\n",
              "[5 rows x 32 columns]"
            ],
            "text/html": [
              "\n",
              "  <div id=\"df-12d6e438-aad6-4631-a35f-5c62ce628533\" class=\"colab-df-container\">\n",
              "    <div>\n",
              "<style scoped>\n",
              "    .dataframe tbody tr th:only-of-type {\n",
              "        vertical-align: middle;\n",
              "    }\n",
              "\n",
              "    .dataframe tbody tr th {\n",
              "        vertical-align: top;\n",
              "    }\n",
              "\n",
              "    .dataframe thead th {\n",
              "        text-align: right;\n",
              "    }\n",
              "</style>\n",
              "<table border=\"1\" class=\"dataframe\">\n",
              "  <thead>\n",
              "    <tr style=\"text-align: right;\">\n",
              "      <th></th>\n",
              "      <th>hotel</th>\n",
              "      <th>is_canceled</th>\n",
              "      <th>lead_time</th>\n",
              "      <th>arrival_date_year</th>\n",
              "      <th>arrival_date_month</th>\n",
              "      <th>arrival_date_week_number</th>\n",
              "      <th>arrival_date_day_of_month</th>\n",
              "      <th>stays_in_weekend_nights</th>\n",
              "      <th>stays_in_week_nights</th>\n",
              "      <th>adults</th>\n",
              "      <th>...</th>\n",
              "      <th>deposit_type</th>\n",
              "      <th>agent</th>\n",
              "      <th>company</th>\n",
              "      <th>days_in_waiting_list</th>\n",
              "      <th>customer_type</th>\n",
              "      <th>adr</th>\n",
              "      <th>required_car_parking_spaces</th>\n",
              "      <th>total_of_special_requests</th>\n",
              "      <th>reservation_status</th>\n",
              "      <th>reservation_status_date</th>\n",
              "    </tr>\n",
              "  </thead>\n",
              "  <tbody>\n",
              "    <tr>\n",
              "      <th>0</th>\n",
              "      <td>Resort Hotel</td>\n",
              "      <td>0</td>\n",
              "      <td>342</td>\n",
              "      <td>2015</td>\n",
              "      <td>July</td>\n",
              "      <td>27</td>\n",
              "      <td>1</td>\n",
              "      <td>0</td>\n",
              "      <td>0</td>\n",
              "      <td>2</td>\n",
              "      <td>...</td>\n",
              "      <td>No Deposit</td>\n",
              "      <td>NaN</td>\n",
              "      <td>NaN</td>\n",
              "      <td>0</td>\n",
              "      <td>Transient</td>\n",
              "      <td>0.0</td>\n",
              "      <td>0</td>\n",
              "      <td>0</td>\n",
              "      <td>Check-Out</td>\n",
              "      <td>2015-07-01</td>\n",
              "    </tr>\n",
              "    <tr>\n",
              "      <th>1</th>\n",
              "      <td>Resort Hotel</td>\n",
              "      <td>0</td>\n",
              "      <td>737</td>\n",
              "      <td>2015</td>\n",
              "      <td>July</td>\n",
              "      <td>27</td>\n",
              "      <td>1</td>\n",
              "      <td>0</td>\n",
              "      <td>0</td>\n",
              "      <td>2</td>\n",
              "      <td>...</td>\n",
              "      <td>No Deposit</td>\n",
              "      <td>NaN</td>\n",
              "      <td>NaN</td>\n",
              "      <td>0</td>\n",
              "      <td>Transient</td>\n",
              "      <td>0.0</td>\n",
              "      <td>0</td>\n",
              "      <td>0</td>\n",
              "      <td>Check-Out</td>\n",
              "      <td>2015-07-01</td>\n",
              "    </tr>\n",
              "    <tr>\n",
              "      <th>2</th>\n",
              "      <td>Resort Hotel</td>\n",
              "      <td>0</td>\n",
              "      <td>7</td>\n",
              "      <td>2015</td>\n",
              "      <td>July</td>\n",
              "      <td>27</td>\n",
              "      <td>1</td>\n",
              "      <td>0</td>\n",
              "      <td>1</td>\n",
              "      <td>1</td>\n",
              "      <td>...</td>\n",
              "      <td>No Deposit</td>\n",
              "      <td>NaN</td>\n",
              "      <td>NaN</td>\n",
              "      <td>0</td>\n",
              "      <td>Transient</td>\n",
              "      <td>75.0</td>\n",
              "      <td>0</td>\n",
              "      <td>0</td>\n",
              "      <td>Check-Out</td>\n",
              "      <td>2015-07-02</td>\n",
              "    </tr>\n",
              "    <tr>\n",
              "      <th>3</th>\n",
              "      <td>Resort Hotel</td>\n",
              "      <td>0</td>\n",
              "      <td>13</td>\n",
              "      <td>2015</td>\n",
              "      <td>July</td>\n",
              "      <td>27</td>\n",
              "      <td>1</td>\n",
              "      <td>0</td>\n",
              "      <td>1</td>\n",
              "      <td>1</td>\n",
              "      <td>...</td>\n",
              "      <td>No Deposit</td>\n",
              "      <td>304.0</td>\n",
              "      <td>NaN</td>\n",
              "      <td>0</td>\n",
              "      <td>Transient</td>\n",
              "      <td>75.0</td>\n",
              "      <td>0</td>\n",
              "      <td>0</td>\n",
              "      <td>Check-Out</td>\n",
              "      <td>2015-07-02</td>\n",
              "    </tr>\n",
              "    <tr>\n",
              "      <th>4</th>\n",
              "      <td>Resort Hotel</td>\n",
              "      <td>0</td>\n",
              "      <td>14</td>\n",
              "      <td>2015</td>\n",
              "      <td>July</td>\n",
              "      <td>27</td>\n",
              "      <td>1</td>\n",
              "      <td>0</td>\n",
              "      <td>2</td>\n",
              "      <td>2</td>\n",
              "      <td>...</td>\n",
              "      <td>No Deposit</td>\n",
              "      <td>240.0</td>\n",
              "      <td>NaN</td>\n",
              "      <td>0</td>\n",
              "      <td>Transient</td>\n",
              "      <td>98.0</td>\n",
              "      <td>0</td>\n",
              "      <td>1</td>\n",
              "      <td>Check-Out</td>\n",
              "      <td>2015-07-03</td>\n",
              "    </tr>\n",
              "  </tbody>\n",
              "</table>\n",
              "<p>5 rows × 32 columns</p>\n",
              "</div>\n",
              "    <div class=\"colab-df-buttons\">\n",
              "\n",
              "  <div class=\"colab-df-container\">\n",
              "    <button class=\"colab-df-convert\" onclick=\"convertToInteractive('df-12d6e438-aad6-4631-a35f-5c62ce628533')\"\n",
              "            title=\"Convert this dataframe to an interactive table.\"\n",
              "            style=\"display:none;\">\n",
              "\n",
              "  <svg xmlns=\"http://www.w3.org/2000/svg\" height=\"24px\" viewBox=\"0 -960 960 960\">\n",
              "    <path d=\"M120-120v-720h720v720H120Zm60-500h600v-160H180v160Zm220 220h160v-160H400v160Zm0 220h160v-160H400v160ZM180-400h160v-160H180v160Zm440 0h160v-160H620v160ZM180-180h160v-160H180v160Zm440 0h160v-160H620v160Z\"/>\n",
              "  </svg>\n",
              "    </button>\n",
              "\n",
              "  <style>\n",
              "    .colab-df-container {\n",
              "      display:flex;\n",
              "      gap: 12px;\n",
              "    }\n",
              "\n",
              "    .colab-df-convert {\n",
              "      background-color: #E8F0FE;\n",
              "      border: none;\n",
              "      border-radius: 50%;\n",
              "      cursor: pointer;\n",
              "      display: none;\n",
              "      fill: #1967D2;\n",
              "      height: 32px;\n",
              "      padding: 0 0 0 0;\n",
              "      width: 32px;\n",
              "    }\n",
              "\n",
              "    .colab-df-convert:hover {\n",
              "      background-color: #E2EBFA;\n",
              "      box-shadow: 0px 1px 2px rgba(60, 64, 67, 0.3), 0px 1px 3px 1px rgba(60, 64, 67, 0.15);\n",
              "      fill: #174EA6;\n",
              "    }\n",
              "\n",
              "    .colab-df-buttons div {\n",
              "      margin-bottom: 4px;\n",
              "    }\n",
              "\n",
              "    [theme=dark] .colab-df-convert {\n",
              "      background-color: #3B4455;\n",
              "      fill: #D2E3FC;\n",
              "    }\n",
              "\n",
              "    [theme=dark] .colab-df-convert:hover {\n",
              "      background-color: #434B5C;\n",
              "      box-shadow: 0px 1px 3px 1px rgba(0, 0, 0, 0.15);\n",
              "      filter: drop-shadow(0px 1px 2px rgba(0, 0, 0, 0.3));\n",
              "      fill: #FFFFFF;\n",
              "    }\n",
              "  </style>\n",
              "\n",
              "    <script>\n",
              "      const buttonEl =\n",
              "        document.querySelector('#df-12d6e438-aad6-4631-a35f-5c62ce628533 button.colab-df-convert');\n",
              "      buttonEl.style.display =\n",
              "        google.colab.kernel.accessAllowed ? 'block' : 'none';\n",
              "\n",
              "      async function convertToInteractive(key) {\n",
              "        const element = document.querySelector('#df-12d6e438-aad6-4631-a35f-5c62ce628533');\n",
              "        const dataTable =\n",
              "          await google.colab.kernel.invokeFunction('convertToInteractive',\n",
              "                                                    [key], {});\n",
              "        if (!dataTable) return;\n",
              "\n",
              "        const docLinkHtml = 'Like what you see? Visit the ' +\n",
              "          '<a target=\"_blank\" href=https://colab.research.google.com/notebooks/data_table.ipynb>data table notebook</a>'\n",
              "          + ' to learn more about interactive tables.';\n",
              "        element.innerHTML = '';\n",
              "        dataTable['output_type'] = 'display_data';\n",
              "        await google.colab.output.renderOutput(dataTable, element);\n",
              "        const docLink = document.createElement('div');\n",
              "        docLink.innerHTML = docLinkHtml;\n",
              "        element.appendChild(docLink);\n",
              "      }\n",
              "    </script>\n",
              "  </div>\n",
              "\n",
              "\n",
              "<div id=\"df-88a5cb4e-38f1-49a8-b9f9-e2835521d7fa\">\n",
              "  <button class=\"colab-df-quickchart\" onclick=\"quickchart('df-88a5cb4e-38f1-49a8-b9f9-e2835521d7fa')\"\n",
              "            title=\"Suggest charts.\"\n",
              "            style=\"display:none;\">\n",
              "\n",
              "<svg xmlns=\"http://www.w3.org/2000/svg\" height=\"24px\"viewBox=\"0 0 24 24\"\n",
              "     width=\"24px\">\n",
              "    <g>\n",
              "        <path d=\"M19 3H5c-1.1 0-2 .9-2 2v14c0 1.1.9 2 2 2h14c1.1 0 2-.9 2-2V5c0-1.1-.9-2-2-2zM9 17H7v-7h2v7zm4 0h-2V7h2v10zm4 0h-2v-4h2v4z\"/>\n",
              "    </g>\n",
              "</svg>\n",
              "  </button>\n",
              "\n",
              "<style>\n",
              "  .colab-df-quickchart {\n",
              "      --bg-color: #E8F0FE;\n",
              "      --fill-color: #1967D2;\n",
              "      --hover-bg-color: #E2EBFA;\n",
              "      --hover-fill-color: #174EA6;\n",
              "      --disabled-fill-color: #AAA;\n",
              "      --disabled-bg-color: #DDD;\n",
              "  }\n",
              "\n",
              "  [theme=dark] .colab-df-quickchart {\n",
              "      --bg-color: #3B4455;\n",
              "      --fill-color: #D2E3FC;\n",
              "      --hover-bg-color: #434B5C;\n",
              "      --hover-fill-color: #FFFFFF;\n",
              "      --disabled-bg-color: #3B4455;\n",
              "      --disabled-fill-color: #666;\n",
              "  }\n",
              "\n",
              "  .colab-df-quickchart {\n",
              "    background-color: var(--bg-color);\n",
              "    border: none;\n",
              "    border-radius: 50%;\n",
              "    cursor: pointer;\n",
              "    display: none;\n",
              "    fill: var(--fill-color);\n",
              "    height: 32px;\n",
              "    padding: 0;\n",
              "    width: 32px;\n",
              "  }\n",
              "\n",
              "  .colab-df-quickchart:hover {\n",
              "    background-color: var(--hover-bg-color);\n",
              "    box-shadow: 0 1px 2px rgba(60, 64, 67, 0.3), 0 1px 3px 1px rgba(60, 64, 67, 0.15);\n",
              "    fill: var(--button-hover-fill-color);\n",
              "  }\n",
              "\n",
              "  .colab-df-quickchart-complete:disabled,\n",
              "  .colab-df-quickchart-complete:disabled:hover {\n",
              "    background-color: var(--disabled-bg-color);\n",
              "    fill: var(--disabled-fill-color);\n",
              "    box-shadow: none;\n",
              "  }\n",
              "\n",
              "  .colab-df-spinner {\n",
              "    border: 2px solid var(--fill-color);\n",
              "    border-color: transparent;\n",
              "    border-bottom-color: var(--fill-color);\n",
              "    animation:\n",
              "      spin 1s steps(1) infinite;\n",
              "  }\n",
              "\n",
              "  @keyframes spin {\n",
              "    0% {\n",
              "      border-color: transparent;\n",
              "      border-bottom-color: var(--fill-color);\n",
              "      border-left-color: var(--fill-color);\n",
              "    }\n",
              "    20% {\n",
              "      border-color: transparent;\n",
              "      border-left-color: var(--fill-color);\n",
              "      border-top-color: var(--fill-color);\n",
              "    }\n",
              "    30% {\n",
              "      border-color: transparent;\n",
              "      border-left-color: var(--fill-color);\n",
              "      border-top-color: var(--fill-color);\n",
              "      border-right-color: var(--fill-color);\n",
              "    }\n",
              "    40% {\n",
              "      border-color: transparent;\n",
              "      border-right-color: var(--fill-color);\n",
              "      border-top-color: var(--fill-color);\n",
              "    }\n",
              "    60% {\n",
              "      border-color: transparent;\n",
              "      border-right-color: var(--fill-color);\n",
              "    }\n",
              "    80% {\n",
              "      border-color: transparent;\n",
              "      border-right-color: var(--fill-color);\n",
              "      border-bottom-color: var(--fill-color);\n",
              "    }\n",
              "    90% {\n",
              "      border-color: transparent;\n",
              "      border-bottom-color: var(--fill-color);\n",
              "    }\n",
              "  }\n",
              "</style>\n",
              "\n",
              "  <script>\n",
              "    async function quickchart(key) {\n",
              "      const quickchartButtonEl =\n",
              "        document.querySelector('#' + key + ' button');\n",
              "      quickchartButtonEl.disabled = true;  // To prevent multiple clicks.\n",
              "      quickchartButtonEl.classList.add('colab-df-spinner');\n",
              "      try {\n",
              "        const charts = await google.colab.kernel.invokeFunction(\n",
              "            'suggestCharts', [key], {});\n",
              "      } catch (error) {\n",
              "        console.error('Error during call to suggestCharts:', error);\n",
              "      }\n",
              "      quickchartButtonEl.classList.remove('colab-df-spinner');\n",
              "      quickchartButtonEl.classList.add('colab-df-quickchart-complete');\n",
              "    }\n",
              "    (() => {\n",
              "      let quickchartButtonEl =\n",
              "        document.querySelector('#df-88a5cb4e-38f1-49a8-b9f9-e2835521d7fa button');\n",
              "      quickchartButtonEl.style.display =\n",
              "        google.colab.kernel.accessAllowed ? 'block' : 'none';\n",
              "    })();\n",
              "  </script>\n",
              "</div>\n",
              "    </div>\n",
              "  </div>\n"
            ]
          },
          "metadata": {},
          "execution_count": 4
        }
      ]
    },
    {
      "cell_type": "markdown",
      "source": [
        "### Dataset Rows & Columns count"
      ],
      "metadata": {
        "id": "7hBIi_osiCS2"
      }
    },
    {
      "cell_type": "code",
      "source": [
        "# Dataset Rows & Columns count\n",
        "rows, columns = df.shape\n",
        "print(f'The dataframe has {rows} rows and {columns} columns')"
      ],
      "metadata": {
        "id": "Kllu7SJgmLij",
        "colab": {
          "base_uri": "https://localhost:8080/"
        },
        "outputId": "2bb7407f-a104-404a-f22c-14a634d60a5f"
      },
      "execution_count": 5,
      "outputs": [
        {
          "output_type": "stream",
          "name": "stdout",
          "text": [
            "The dataframe has 119390 rows and 32 columns\n"
          ]
        }
      ]
    },
    {
      "cell_type": "markdown",
      "source": [
        "### Dataset Information"
      ],
      "metadata": {
        "id": "JlHwYmJAmNHm"
      }
    },
    {
      "cell_type": "code",
      "source": [
        "# Dataset Info\n",
        "df.info()"
      ],
      "metadata": {
        "id": "e9hRXRi6meOf",
        "colab": {
          "base_uri": "https://localhost:8080/"
        },
        "outputId": "a61362d4-f837-44ef-8488-dfc641d1c66f"
      },
      "execution_count": 6,
      "outputs": [
        {
          "output_type": "stream",
          "name": "stdout",
          "text": [
            "<class 'pandas.core.frame.DataFrame'>\n",
            "RangeIndex: 119390 entries, 0 to 119389\n",
            "Data columns (total 32 columns):\n",
            " #   Column                          Non-Null Count   Dtype  \n",
            "---  ------                          --------------   -----  \n",
            " 0   hotel                           119390 non-null  object \n",
            " 1   is_canceled                     119390 non-null  int64  \n",
            " 2   lead_time                       119390 non-null  int64  \n",
            " 3   arrival_date_year               119390 non-null  int64  \n",
            " 4   arrival_date_month              119390 non-null  object \n",
            " 5   arrival_date_week_number        119390 non-null  int64  \n",
            " 6   arrival_date_day_of_month       119390 non-null  int64  \n",
            " 7   stays_in_weekend_nights         119390 non-null  int64  \n",
            " 8   stays_in_week_nights            119390 non-null  int64  \n",
            " 9   adults                          119390 non-null  int64  \n",
            " 10  children                        119386 non-null  float64\n",
            " 11  babies                          119390 non-null  int64  \n",
            " 12  meal                            119390 non-null  object \n",
            " 13  country                         118902 non-null  object \n",
            " 14  market_segment                  119390 non-null  object \n",
            " 15  distribution_channel            119390 non-null  object \n",
            " 16  is_repeated_guest               119390 non-null  int64  \n",
            " 17  previous_cancellations          119390 non-null  int64  \n",
            " 18  previous_bookings_not_canceled  119390 non-null  int64  \n",
            " 19  reserved_room_type              119390 non-null  object \n",
            " 20  assigned_room_type              119390 non-null  object \n",
            " 21  booking_changes                 119390 non-null  int64  \n",
            " 22  deposit_type                    119390 non-null  object \n",
            " 23  agent                           103050 non-null  float64\n",
            " 24  company                         6797 non-null    float64\n",
            " 25  days_in_waiting_list            119390 non-null  int64  \n",
            " 26  customer_type                   119390 non-null  object \n",
            " 27  adr                             119390 non-null  float64\n",
            " 28  required_car_parking_spaces     119390 non-null  int64  \n",
            " 29  total_of_special_requests       119390 non-null  int64  \n",
            " 30  reservation_status              119390 non-null  object \n",
            " 31  reservation_status_date         119390 non-null  object \n",
            "dtypes: float64(4), int64(16), object(12)\n",
            "memory usage: 29.1+ MB\n"
          ]
        }
      ]
    },
    {
      "cell_type": "markdown",
      "source": [
        "#### Duplicate Values"
      ],
      "metadata": {
        "id": "35m5QtbWiB9F"
      }
    },
    {
      "cell_type": "code",
      "source": [
        "#Creating copy\n",
        "df1=df.copy()"
      ],
      "metadata": {
        "id": "g3FHCyhxV9-5"
      },
      "execution_count": 7,
      "outputs": []
    },
    {
      "cell_type": "code",
      "source": [
        "df1[df1.duplicated()].shape   # Show no. of rows of duplicate rows duplicate rows"
      ],
      "metadata": {
        "id": "GEf41kYMYueP",
        "colab": {
          "base_uri": "https://localhost:8080/"
        },
        "outputId": "0e382088-6c6e-46c6-bec9-503c385a7fd6"
      },
      "execution_count": 8,
      "outputs": [
        {
          "output_type": "execute_result",
          "data": {
            "text/plain": [
              "(31994, 32)"
            ]
          },
          "metadata": {},
          "execution_count": 8
        }
      ]
    },
    {
      "cell_type": "markdown",
      "source": [
        "We try to understand the meaning of the data by looking for unique values"
      ],
      "metadata": {
        "id": "_o3RTLD5XjJC"
      }
    },
    {
      "cell_type": "code",
      "source": [
        "# Dataset Duplicate Value Count\n",
        "duplicate_count = df.duplicated().sum()\n",
        "print(f'Total duplicate rows: {duplicate_count}')"
      ],
      "metadata": {
        "colab": {
          "base_uri": "https://localhost:8080/"
        },
        "id": "M15S-Z02MUNv",
        "outputId": "fc972c36-dc59-4b44-de79-484a29a40cc9"
      },
      "execution_count": 9,
      "outputs": [
        {
          "output_type": "stream",
          "name": "stdout",
          "text": [
            "Total duplicate rows: 31994\n"
          ]
        }
      ]
    },
    {
      "cell_type": "markdown",
      "source": [
        "#### Missing Values/Null Values"
      ],
      "metadata": {
        "id": "PoPl-ycgm1ru"
      }
    },
    {
      "cell_type": "code",
      "source": [
        "# Missing Values/Null Values Count\n",
        "print(\"The number of missing value in given column \")\n",
        "print('*'*75)\n",
        "df.isnull().sum().sort_values(ascending = False)[:7]"
      ],
      "metadata": {
        "id": "GgHWkxvamxVg",
        "colab": {
          "base_uri": "https://localhost:8080/"
        },
        "outputId": "8677ce8a-74f0-4428-b254-f4a43e82bc59"
      },
      "execution_count": 10,
      "outputs": [
        {
          "output_type": "stream",
          "name": "stdout",
          "text": [
            "The number of missing value in given column \n",
            "***************************************************************************\n"
          ]
        },
        {
          "output_type": "execute_result",
          "data": {
            "text/plain": [
              "company               112593\n",
              "agent                  16340\n",
              "country                  488\n",
              "children                   4\n",
              "reserved_room_type         0\n",
              "assigned_room_type         0\n",
              "booking_changes            0\n",
              "dtype: int64"
            ]
          },
          "metadata": {},
          "execution_count": 10
        }
      ]
    },
    {
      "cell_type": "markdown",
      "source": [
        "### What did you know about your dataset?"
      ],
      "metadata": {
        "id": "H0kj-8xxnORC"
      }
    },
    {
      "cell_type": "markdown",
      "source": [
        "We see that there are 32 columns in the dataframe and some columns like 'children', 'company', 'country' and 'agent' have null values.\n",
        "\n",
        "Since, company and agent columns have comany number and agent numbers as data. There may be some cases when customer didnt booked hotel via any agent or via any company. So in that case values can be null under these columns.\n",
        "Also, 488 null values found in country column."
      ],
      "metadata": {
        "id": "gfoNAAC-nUe_"
      }
    },
    {
      "cell_type": "markdown",
      "source": [
        "## ***2. Understanding Your Variables***"
      ],
      "metadata": {
        "id": "nA9Y7ga8ng1Z"
      }
    },
    {
      "cell_type": "code",
      "source": [
        "# Dataset Columns\n",
        "df.columns"
      ],
      "metadata": {
        "id": "j7xfkqrt5Ag5",
        "colab": {
          "base_uri": "https://localhost:8080/"
        },
        "outputId": "124134af-ca65-47c4-bd52-d42644fe44e7"
      },
      "execution_count": 11,
      "outputs": [
        {
          "output_type": "execute_result",
          "data": {
            "text/plain": [
              "Index(['hotel', 'is_canceled', 'lead_time', 'arrival_date_year',\n",
              "       'arrival_date_month', 'arrival_date_week_number',\n",
              "       'arrival_date_day_of_month', 'stays_in_weekend_nights',\n",
              "       'stays_in_week_nights', 'adults', 'children', 'babies', 'meal',\n",
              "       'country', 'market_segment', 'distribution_channel',\n",
              "       'is_repeated_guest', 'previous_cancellations',\n",
              "       'previous_bookings_not_canceled', 'reserved_room_type',\n",
              "       'assigned_room_type', 'booking_changes', 'deposit_type', 'agent',\n",
              "       'company', 'days_in_waiting_list', 'customer_type', 'adr',\n",
              "       'required_car_parking_spaces', 'total_of_special_requests',\n",
              "       'reservation_status', 'reservation_status_date'],\n",
              "      dtype='object')"
            ]
          },
          "metadata": {},
          "execution_count": 11
        }
      ]
    },
    {
      "cell_type": "code",
      "source": [
        "# Dataset Describe\n",
        "df.describe()"
      ],
      "metadata": {
        "id": "DnOaZdaE5Q5t",
        "colab": {
          "base_uri": "https://localhost:8080/",
          "height": 320
        },
        "outputId": "796b1c21-f1e0-4f32-a93c-6bcb47f05772"
      },
      "execution_count": 12,
      "outputs": [
        {
          "output_type": "execute_result",
          "data": {
            "text/plain": [
              "         is_canceled      lead_time  arrival_date_year  \\\n",
              "count  119390.000000  119390.000000      119390.000000   \n",
              "mean        0.370416     104.011416        2016.156554   \n",
              "std         0.482918     106.863097           0.707476   \n",
              "min         0.000000       0.000000        2015.000000   \n",
              "25%         0.000000      18.000000        2016.000000   \n",
              "50%         0.000000      69.000000        2016.000000   \n",
              "75%         1.000000     160.000000        2017.000000   \n",
              "max         1.000000     737.000000        2017.000000   \n",
              "\n",
              "       arrival_date_week_number  arrival_date_day_of_month  \\\n",
              "count             119390.000000              119390.000000   \n",
              "mean                  27.165173                  15.798241   \n",
              "std                   13.605138                   8.780829   \n",
              "min                    1.000000                   1.000000   \n",
              "25%                   16.000000                   8.000000   \n",
              "50%                   28.000000                  16.000000   \n",
              "75%                   38.000000                  23.000000   \n",
              "max                   53.000000                  31.000000   \n",
              "\n",
              "       stays_in_weekend_nights  stays_in_week_nights         adults  \\\n",
              "count            119390.000000         119390.000000  119390.000000   \n",
              "mean                  0.927599              2.500302       1.856403   \n",
              "std                   0.998613              1.908286       0.579261   \n",
              "min                   0.000000              0.000000       0.000000   \n",
              "25%                   0.000000              1.000000       2.000000   \n",
              "50%                   1.000000              2.000000       2.000000   \n",
              "75%                   2.000000              3.000000       2.000000   \n",
              "max                  19.000000             50.000000      55.000000   \n",
              "\n",
              "            children         babies  is_repeated_guest  \\\n",
              "count  119386.000000  119390.000000      119390.000000   \n",
              "mean        0.103890       0.007949           0.031912   \n",
              "std         0.398561       0.097436           0.175767   \n",
              "min         0.000000       0.000000           0.000000   \n",
              "25%         0.000000       0.000000           0.000000   \n",
              "50%         0.000000       0.000000           0.000000   \n",
              "75%         0.000000       0.000000           0.000000   \n",
              "max        10.000000      10.000000           1.000000   \n",
              "\n",
              "       previous_cancellations  previous_bookings_not_canceled  \\\n",
              "count           119390.000000                   119390.000000   \n",
              "mean                 0.087118                        0.137097   \n",
              "std                  0.844336                        1.497437   \n",
              "min                  0.000000                        0.000000   \n",
              "25%                  0.000000                        0.000000   \n",
              "50%                  0.000000                        0.000000   \n",
              "75%                  0.000000                        0.000000   \n",
              "max                 26.000000                       72.000000   \n",
              "\n",
              "       booking_changes          agent      company  days_in_waiting_list  \\\n",
              "count    119390.000000  103050.000000  6797.000000         119390.000000   \n",
              "mean          0.221124      86.693382   189.266735              2.321149   \n",
              "std           0.652306     110.774548   131.655015             17.594721   \n",
              "min           0.000000       1.000000     6.000000              0.000000   \n",
              "25%           0.000000       9.000000    62.000000              0.000000   \n",
              "50%           0.000000      14.000000   179.000000              0.000000   \n",
              "75%           0.000000     229.000000   270.000000              0.000000   \n",
              "max          21.000000     535.000000   543.000000            391.000000   \n",
              "\n",
              "                 adr  required_car_parking_spaces  total_of_special_requests  \n",
              "count  119390.000000                119390.000000              119390.000000  \n",
              "mean      101.831122                     0.062518                   0.571363  \n",
              "std        50.535790                     0.245291                   0.792798  \n",
              "min        -6.380000                     0.000000                   0.000000  \n",
              "25%        69.290000                     0.000000                   0.000000  \n",
              "50%        94.575000                     0.000000                   0.000000  \n",
              "75%       126.000000                     0.000000                   1.000000  \n",
              "max      5400.000000                     8.000000                   5.000000  "
            ],
            "text/html": [
              "\n",
              "  <div id=\"df-d1d6e839-d1df-4554-9e0a-2b4a99d75cf6\" class=\"colab-df-container\">\n",
              "    <div>\n",
              "<style scoped>\n",
              "    .dataframe tbody tr th:only-of-type {\n",
              "        vertical-align: middle;\n",
              "    }\n",
              "\n",
              "    .dataframe tbody tr th {\n",
              "        vertical-align: top;\n",
              "    }\n",
              "\n",
              "    .dataframe thead th {\n",
              "        text-align: right;\n",
              "    }\n",
              "</style>\n",
              "<table border=\"1\" class=\"dataframe\">\n",
              "  <thead>\n",
              "    <tr style=\"text-align: right;\">\n",
              "      <th></th>\n",
              "      <th>is_canceled</th>\n",
              "      <th>lead_time</th>\n",
              "      <th>arrival_date_year</th>\n",
              "      <th>arrival_date_week_number</th>\n",
              "      <th>arrival_date_day_of_month</th>\n",
              "      <th>stays_in_weekend_nights</th>\n",
              "      <th>stays_in_week_nights</th>\n",
              "      <th>adults</th>\n",
              "      <th>children</th>\n",
              "      <th>babies</th>\n",
              "      <th>is_repeated_guest</th>\n",
              "      <th>previous_cancellations</th>\n",
              "      <th>previous_bookings_not_canceled</th>\n",
              "      <th>booking_changes</th>\n",
              "      <th>agent</th>\n",
              "      <th>company</th>\n",
              "      <th>days_in_waiting_list</th>\n",
              "      <th>adr</th>\n",
              "      <th>required_car_parking_spaces</th>\n",
              "      <th>total_of_special_requests</th>\n",
              "    </tr>\n",
              "  </thead>\n",
              "  <tbody>\n",
              "    <tr>\n",
              "      <th>count</th>\n",
              "      <td>119390.000000</td>\n",
              "      <td>119390.000000</td>\n",
              "      <td>119390.000000</td>\n",
              "      <td>119390.000000</td>\n",
              "      <td>119390.000000</td>\n",
              "      <td>119390.000000</td>\n",
              "      <td>119390.000000</td>\n",
              "      <td>119390.000000</td>\n",
              "      <td>119386.000000</td>\n",
              "      <td>119390.000000</td>\n",
              "      <td>119390.000000</td>\n",
              "      <td>119390.000000</td>\n",
              "      <td>119390.000000</td>\n",
              "      <td>119390.000000</td>\n",
              "      <td>103050.000000</td>\n",
              "      <td>6797.000000</td>\n",
              "      <td>119390.000000</td>\n",
              "      <td>119390.000000</td>\n",
              "      <td>119390.000000</td>\n",
              "      <td>119390.000000</td>\n",
              "    </tr>\n",
              "    <tr>\n",
              "      <th>mean</th>\n",
              "      <td>0.370416</td>\n",
              "      <td>104.011416</td>\n",
              "      <td>2016.156554</td>\n",
              "      <td>27.165173</td>\n",
              "      <td>15.798241</td>\n",
              "      <td>0.927599</td>\n",
              "      <td>2.500302</td>\n",
              "      <td>1.856403</td>\n",
              "      <td>0.103890</td>\n",
              "      <td>0.007949</td>\n",
              "      <td>0.031912</td>\n",
              "      <td>0.087118</td>\n",
              "      <td>0.137097</td>\n",
              "      <td>0.221124</td>\n",
              "      <td>86.693382</td>\n",
              "      <td>189.266735</td>\n",
              "      <td>2.321149</td>\n",
              "      <td>101.831122</td>\n",
              "      <td>0.062518</td>\n",
              "      <td>0.571363</td>\n",
              "    </tr>\n",
              "    <tr>\n",
              "      <th>std</th>\n",
              "      <td>0.482918</td>\n",
              "      <td>106.863097</td>\n",
              "      <td>0.707476</td>\n",
              "      <td>13.605138</td>\n",
              "      <td>8.780829</td>\n",
              "      <td>0.998613</td>\n",
              "      <td>1.908286</td>\n",
              "      <td>0.579261</td>\n",
              "      <td>0.398561</td>\n",
              "      <td>0.097436</td>\n",
              "      <td>0.175767</td>\n",
              "      <td>0.844336</td>\n",
              "      <td>1.497437</td>\n",
              "      <td>0.652306</td>\n",
              "      <td>110.774548</td>\n",
              "      <td>131.655015</td>\n",
              "      <td>17.594721</td>\n",
              "      <td>50.535790</td>\n",
              "      <td>0.245291</td>\n",
              "      <td>0.792798</td>\n",
              "    </tr>\n",
              "    <tr>\n",
              "      <th>min</th>\n",
              "      <td>0.000000</td>\n",
              "      <td>0.000000</td>\n",
              "      <td>2015.000000</td>\n",
              "      <td>1.000000</td>\n",
              "      <td>1.000000</td>\n",
              "      <td>0.000000</td>\n",
              "      <td>0.000000</td>\n",
              "      <td>0.000000</td>\n",
              "      <td>0.000000</td>\n",
              "      <td>0.000000</td>\n",
              "      <td>0.000000</td>\n",
              "      <td>0.000000</td>\n",
              "      <td>0.000000</td>\n",
              "      <td>0.000000</td>\n",
              "      <td>1.000000</td>\n",
              "      <td>6.000000</td>\n",
              "      <td>0.000000</td>\n",
              "      <td>-6.380000</td>\n",
              "      <td>0.000000</td>\n",
              "      <td>0.000000</td>\n",
              "    </tr>\n",
              "    <tr>\n",
              "      <th>25%</th>\n",
              "      <td>0.000000</td>\n",
              "      <td>18.000000</td>\n",
              "      <td>2016.000000</td>\n",
              "      <td>16.000000</td>\n",
              "      <td>8.000000</td>\n",
              "      <td>0.000000</td>\n",
              "      <td>1.000000</td>\n",
              "      <td>2.000000</td>\n",
              "      <td>0.000000</td>\n",
              "      <td>0.000000</td>\n",
              "      <td>0.000000</td>\n",
              "      <td>0.000000</td>\n",
              "      <td>0.000000</td>\n",
              "      <td>0.000000</td>\n",
              "      <td>9.000000</td>\n",
              "      <td>62.000000</td>\n",
              "      <td>0.000000</td>\n",
              "      <td>69.290000</td>\n",
              "      <td>0.000000</td>\n",
              "      <td>0.000000</td>\n",
              "    </tr>\n",
              "    <tr>\n",
              "      <th>50%</th>\n",
              "      <td>0.000000</td>\n",
              "      <td>69.000000</td>\n",
              "      <td>2016.000000</td>\n",
              "      <td>28.000000</td>\n",
              "      <td>16.000000</td>\n",
              "      <td>1.000000</td>\n",
              "      <td>2.000000</td>\n",
              "      <td>2.000000</td>\n",
              "      <td>0.000000</td>\n",
              "      <td>0.000000</td>\n",
              "      <td>0.000000</td>\n",
              "      <td>0.000000</td>\n",
              "      <td>0.000000</td>\n",
              "      <td>0.000000</td>\n",
              "      <td>14.000000</td>\n",
              "      <td>179.000000</td>\n",
              "      <td>0.000000</td>\n",
              "      <td>94.575000</td>\n",
              "      <td>0.000000</td>\n",
              "      <td>0.000000</td>\n",
              "    </tr>\n",
              "    <tr>\n",
              "      <th>75%</th>\n",
              "      <td>1.000000</td>\n",
              "      <td>160.000000</td>\n",
              "      <td>2017.000000</td>\n",
              "      <td>38.000000</td>\n",
              "      <td>23.000000</td>\n",
              "      <td>2.000000</td>\n",
              "      <td>3.000000</td>\n",
              "      <td>2.000000</td>\n",
              "      <td>0.000000</td>\n",
              "      <td>0.000000</td>\n",
              "      <td>0.000000</td>\n",
              "      <td>0.000000</td>\n",
              "      <td>0.000000</td>\n",
              "      <td>0.000000</td>\n",
              "      <td>229.000000</td>\n",
              "      <td>270.000000</td>\n",
              "      <td>0.000000</td>\n",
              "      <td>126.000000</td>\n",
              "      <td>0.000000</td>\n",
              "      <td>1.000000</td>\n",
              "    </tr>\n",
              "    <tr>\n",
              "      <th>max</th>\n",
              "      <td>1.000000</td>\n",
              "      <td>737.000000</td>\n",
              "      <td>2017.000000</td>\n",
              "      <td>53.000000</td>\n",
              "      <td>31.000000</td>\n",
              "      <td>19.000000</td>\n",
              "      <td>50.000000</td>\n",
              "      <td>55.000000</td>\n",
              "      <td>10.000000</td>\n",
              "      <td>10.000000</td>\n",
              "      <td>1.000000</td>\n",
              "      <td>26.000000</td>\n",
              "      <td>72.000000</td>\n",
              "      <td>21.000000</td>\n",
              "      <td>535.000000</td>\n",
              "      <td>543.000000</td>\n",
              "      <td>391.000000</td>\n",
              "      <td>5400.000000</td>\n",
              "      <td>8.000000</td>\n",
              "      <td>5.000000</td>\n",
              "    </tr>\n",
              "  </tbody>\n",
              "</table>\n",
              "</div>\n",
              "    <div class=\"colab-df-buttons\">\n",
              "\n",
              "  <div class=\"colab-df-container\">\n",
              "    <button class=\"colab-df-convert\" onclick=\"convertToInteractive('df-d1d6e839-d1df-4554-9e0a-2b4a99d75cf6')\"\n",
              "            title=\"Convert this dataframe to an interactive table.\"\n",
              "            style=\"display:none;\">\n",
              "\n",
              "  <svg xmlns=\"http://www.w3.org/2000/svg\" height=\"24px\" viewBox=\"0 -960 960 960\">\n",
              "    <path d=\"M120-120v-720h720v720H120Zm60-500h600v-160H180v160Zm220 220h160v-160H400v160Zm0 220h160v-160H400v160ZM180-400h160v-160H180v160Zm440 0h160v-160H620v160ZM180-180h160v-160H180v160Zm440 0h160v-160H620v160Z\"/>\n",
              "  </svg>\n",
              "    </button>\n",
              "\n",
              "  <style>\n",
              "    .colab-df-container {\n",
              "      display:flex;\n",
              "      gap: 12px;\n",
              "    }\n",
              "\n",
              "    .colab-df-convert {\n",
              "      background-color: #E8F0FE;\n",
              "      border: none;\n",
              "      border-radius: 50%;\n",
              "      cursor: pointer;\n",
              "      display: none;\n",
              "      fill: #1967D2;\n",
              "      height: 32px;\n",
              "      padding: 0 0 0 0;\n",
              "      width: 32px;\n",
              "    }\n",
              "\n",
              "    .colab-df-convert:hover {\n",
              "      background-color: #E2EBFA;\n",
              "      box-shadow: 0px 1px 2px rgba(60, 64, 67, 0.3), 0px 1px 3px 1px rgba(60, 64, 67, 0.15);\n",
              "      fill: #174EA6;\n",
              "    }\n",
              "\n",
              "    .colab-df-buttons div {\n",
              "      margin-bottom: 4px;\n",
              "    }\n",
              "\n",
              "    [theme=dark] .colab-df-convert {\n",
              "      background-color: #3B4455;\n",
              "      fill: #D2E3FC;\n",
              "    }\n",
              "\n",
              "    [theme=dark] .colab-df-convert:hover {\n",
              "      background-color: #434B5C;\n",
              "      box-shadow: 0px 1px 3px 1px rgba(0, 0, 0, 0.15);\n",
              "      filter: drop-shadow(0px 1px 2px rgba(0, 0, 0, 0.3));\n",
              "      fill: #FFFFFF;\n",
              "    }\n",
              "  </style>\n",
              "\n",
              "    <script>\n",
              "      const buttonEl =\n",
              "        document.querySelector('#df-d1d6e839-d1df-4554-9e0a-2b4a99d75cf6 button.colab-df-convert');\n",
              "      buttonEl.style.display =\n",
              "        google.colab.kernel.accessAllowed ? 'block' : 'none';\n",
              "\n",
              "      async function convertToInteractive(key) {\n",
              "        const element = document.querySelector('#df-d1d6e839-d1df-4554-9e0a-2b4a99d75cf6');\n",
              "        const dataTable =\n",
              "          await google.colab.kernel.invokeFunction('convertToInteractive',\n",
              "                                                    [key], {});\n",
              "        if (!dataTable) return;\n",
              "\n",
              "        const docLinkHtml = 'Like what you see? Visit the ' +\n",
              "          '<a target=\"_blank\" href=https://colab.research.google.com/notebooks/data_table.ipynb>data table notebook</a>'\n",
              "          + ' to learn more about interactive tables.';\n",
              "        element.innerHTML = '';\n",
              "        dataTable['output_type'] = 'display_data';\n",
              "        await google.colab.output.renderOutput(dataTable, element);\n",
              "        const docLink = document.createElement('div');\n",
              "        docLink.innerHTML = docLinkHtml;\n",
              "        element.appendChild(docLink);\n",
              "      }\n",
              "    </script>\n",
              "  </div>\n",
              "\n",
              "\n",
              "<div id=\"df-48027ee1-9b3b-4023-ae6e-3ae47f717be9\">\n",
              "  <button class=\"colab-df-quickchart\" onclick=\"quickchart('df-48027ee1-9b3b-4023-ae6e-3ae47f717be9')\"\n",
              "            title=\"Suggest charts.\"\n",
              "            style=\"display:none;\">\n",
              "\n",
              "<svg xmlns=\"http://www.w3.org/2000/svg\" height=\"24px\"viewBox=\"0 0 24 24\"\n",
              "     width=\"24px\">\n",
              "    <g>\n",
              "        <path d=\"M19 3H5c-1.1 0-2 .9-2 2v14c0 1.1.9 2 2 2h14c1.1 0 2-.9 2-2V5c0-1.1-.9-2-2-2zM9 17H7v-7h2v7zm4 0h-2V7h2v10zm4 0h-2v-4h2v4z\"/>\n",
              "    </g>\n",
              "</svg>\n",
              "  </button>\n",
              "\n",
              "<style>\n",
              "  .colab-df-quickchart {\n",
              "      --bg-color: #E8F0FE;\n",
              "      --fill-color: #1967D2;\n",
              "      --hover-bg-color: #E2EBFA;\n",
              "      --hover-fill-color: #174EA6;\n",
              "      --disabled-fill-color: #AAA;\n",
              "      --disabled-bg-color: #DDD;\n",
              "  }\n",
              "\n",
              "  [theme=dark] .colab-df-quickchart {\n",
              "      --bg-color: #3B4455;\n",
              "      --fill-color: #D2E3FC;\n",
              "      --hover-bg-color: #434B5C;\n",
              "      --hover-fill-color: #FFFFFF;\n",
              "      --disabled-bg-color: #3B4455;\n",
              "      --disabled-fill-color: #666;\n",
              "  }\n",
              "\n",
              "  .colab-df-quickchart {\n",
              "    background-color: var(--bg-color);\n",
              "    border: none;\n",
              "    border-radius: 50%;\n",
              "    cursor: pointer;\n",
              "    display: none;\n",
              "    fill: var(--fill-color);\n",
              "    height: 32px;\n",
              "    padding: 0;\n",
              "    width: 32px;\n",
              "  }\n",
              "\n",
              "  .colab-df-quickchart:hover {\n",
              "    background-color: var(--hover-bg-color);\n",
              "    box-shadow: 0 1px 2px rgba(60, 64, 67, 0.3), 0 1px 3px 1px rgba(60, 64, 67, 0.15);\n",
              "    fill: var(--button-hover-fill-color);\n",
              "  }\n",
              "\n",
              "  .colab-df-quickchart-complete:disabled,\n",
              "  .colab-df-quickchart-complete:disabled:hover {\n",
              "    background-color: var(--disabled-bg-color);\n",
              "    fill: var(--disabled-fill-color);\n",
              "    box-shadow: none;\n",
              "  }\n",
              "\n",
              "  .colab-df-spinner {\n",
              "    border: 2px solid var(--fill-color);\n",
              "    border-color: transparent;\n",
              "    border-bottom-color: var(--fill-color);\n",
              "    animation:\n",
              "      spin 1s steps(1) infinite;\n",
              "  }\n",
              "\n",
              "  @keyframes spin {\n",
              "    0% {\n",
              "      border-color: transparent;\n",
              "      border-bottom-color: var(--fill-color);\n",
              "      border-left-color: var(--fill-color);\n",
              "    }\n",
              "    20% {\n",
              "      border-color: transparent;\n",
              "      border-left-color: var(--fill-color);\n",
              "      border-top-color: var(--fill-color);\n",
              "    }\n",
              "    30% {\n",
              "      border-color: transparent;\n",
              "      border-left-color: var(--fill-color);\n",
              "      border-top-color: var(--fill-color);\n",
              "      border-right-color: var(--fill-color);\n",
              "    }\n",
              "    40% {\n",
              "      border-color: transparent;\n",
              "      border-right-color: var(--fill-color);\n",
              "      border-top-color: var(--fill-color);\n",
              "    }\n",
              "    60% {\n",
              "      border-color: transparent;\n",
              "      border-right-color: var(--fill-color);\n",
              "    }\n",
              "    80% {\n",
              "      border-color: transparent;\n",
              "      border-right-color: var(--fill-color);\n",
              "      border-bottom-color: var(--fill-color);\n",
              "    }\n",
              "    90% {\n",
              "      border-color: transparent;\n",
              "      border-bottom-color: var(--fill-color);\n",
              "    }\n",
              "  }\n",
              "</style>\n",
              "\n",
              "  <script>\n",
              "    async function quickchart(key) {\n",
              "      const quickchartButtonEl =\n",
              "        document.querySelector('#' + key + ' button');\n",
              "      quickchartButtonEl.disabled = true;  // To prevent multiple clicks.\n",
              "      quickchartButtonEl.classList.add('colab-df-spinner');\n",
              "      try {\n",
              "        const charts = await google.colab.kernel.invokeFunction(\n",
              "            'suggestCharts', [key], {});\n",
              "      } catch (error) {\n",
              "        console.error('Error during call to suggestCharts:', error);\n",
              "      }\n",
              "      quickchartButtonEl.classList.remove('colab-df-spinner');\n",
              "      quickchartButtonEl.classList.add('colab-df-quickchart-complete');\n",
              "    }\n",
              "    (() => {\n",
              "      let quickchartButtonEl =\n",
              "        document.querySelector('#df-48027ee1-9b3b-4023-ae6e-3ae47f717be9 button');\n",
              "      quickchartButtonEl.style.display =\n",
              "        google.colab.kernel.accessAllowed ? 'block' : 'none';\n",
              "    })();\n",
              "  </script>\n",
              "</div>\n",
              "    </div>\n",
              "  </div>\n"
            ]
          },
          "metadata": {},
          "execution_count": 12
        }
      ]
    },
    {
      "cell_type": "markdown",
      "source": [
        "### Variables Description"
      ],
      "metadata": {
        "id": "PBTbrJXOngz2"
      }
    },
    {
      "cell_type": "markdown",
      "source": [
        "There are 32 columns in the dataframe.\n",
        "This dataset contains booking information for a city hotel and a resort hotel. It contains the following features.\n",
        "\n",
        "```\n",
        "- hotel: Name of hotel ( City or Resort)\n",
        "- is_canceled: Whether the booking is canceled or not (0 for no canceled and 1 for canceled)\n",
        "- lead_time: time (in days) between booking transaction and actual arrival.\n",
        "- arrival_date_year: Year of arrival\n",
        "- arrival_date_month: month of arrival\n",
        "- arrival_date_week_number: week number of arrival date.\n",
        "- arrival_date_day_of_month: Day of month of arrival date\n",
        "- stays_in_weekend_nights: No. of weekend nights spent in a hotel\n",
        "- stays_in_week_nights: No. of weeknights spent in a hotel\n",
        "- adults: No. of adults in single booking record.\n",
        "- children: No. of children in single booking record.\n",
        "- babies: No. of babies in single booking record.\n",
        "- meal: Type of meal chosen\n",
        "- country: Country of origin of customers (as mentioned by them)\n",
        "- market_segment: What segment via booking was made and for what purpose.\n",
        "- distribution_channel: Via which medium booking was made.\n",
        "- is_repeated_guest: Whether the customer has made any booking before(0 for No and 1 for\n",
        "                     Yes)\n",
        "- previous_cancellations: No. of previous canceled bookings.\n",
        "- previous_bookings_not_canceled: No. of previous non-canceled bookings.\n",
        "- reserved_room_type: Room type reserved by a customer.\n",
        "- assigned_room_type: Room type assigned to the customer.\n",
        "- booking_changes: No. of booking changes done by customers\n",
        "- deposit_type: Type of deposit at the time of making a booking (No deposit/ Refundable/ No refund)\n",
        "- agent: Id of agent for booking\n",
        "- company: Id of the company making a booking\n",
        "- days_in_waiting_list: No. of days on waiting list.\n",
        "- customer_type: Type of customer(Transient, Group, etc.)\n",
        "- adr: Average Daily rate.\n",
        "- required_car_parking_spaces: No. of car parking asked in booking\n",
        "- total_of_special_requests: total no. of special request.\n",
        "- reservation_status: Whether a customer has checked out or canceled,or not showed\n",
        "- reservation_status_date: Date of making reservation status.\n",
        "```\n",
        "\n",
        "- Total number of rows in data: 119390\n",
        "- Total number of columns: 32"
      ],
      "metadata": {
        "id": "aJV4KIxSnxay"
      }
    },
    {
      "cell_type": "markdown",
      "source": [
        "### Check Unique Values for each variable."
      ],
      "metadata": {
        "id": "u3PMJOP6ngxN"
      }
    },
    {
      "cell_type": "code",
      "source": [
        "# Check Unique Values for each variable.\n",
        "for col in df1.describe(include = 'all').columns:\n",
        "  print(col)\n",
        "  print(df[col].unique())\n",
        "  print('*'*75)"
      ],
      "metadata": {
        "id": "zms12Yq5n-jE",
        "colab": {
          "base_uri": "https://localhost:8080/"
        },
        "outputId": "d1f3ae93-5d3e-4391-a4fe-c0260fe46dc9"
      },
      "execution_count": 13,
      "outputs": [
        {
          "output_type": "stream",
          "name": "stdout",
          "text": [
            "hotel\n",
            "['Resort Hotel' 'City Hotel']\n",
            "***************************************************************************\n",
            "is_canceled\n",
            "[0 1]\n",
            "***************************************************************************\n",
            "lead_time\n",
            "[342 737   7  13  14   0   9  85  75  23  35  68  18  37  12  72 127  78\n",
            "  48  60  77  99 118  95  96  69  45  40  15  36  43  70  16 107  47 113\n",
            "  90  50  93  76   3   1  10   5  17  51  71  63  62 101   2  81 368 364\n",
            " 324  79  21 109 102   4  98  92  26  73 115  86  52  29  30  33  32   8\n",
            " 100  44  80  97  64  39  34  27  82  94 110 111  84  66 104  28 258 112\n",
            "  65  67  55  88  54 292  83 105 280 394  24 103 366 249  22  91  11 108\n",
            " 106  31  87  41 304 117  59  53  58 116  42 321  38  56  49 317   6  57\n",
            "  19  25 315 123  46  89  61 312 299 130  74 298 119  20 286 136 129 124\n",
            " 327 131 460 140 114 139 122 137 126 120 128 135 150 143 151 132 125 157\n",
            " 147 138 156 164 346 159 160 161 333 381 149 154 297 163 314 155 323 340\n",
            " 356 142 328 144 336 248 302 175 344 382 146 170 166 338 167 310 148 165\n",
            " 172 171 145 121 178 305 173 152 354 347 158 185 349 183 352 177 200 192\n",
            " 361 207 174 330 134 350 334 283 153 197 133 241 193 235 194 261 260 216\n",
            " 169 209 238 215 141 189 187 223 284 214 202 211 168 230 203 188 232 709\n",
            " 219 162 196 190 259 228 176 250 201 186 199 180 206 205 224 222 182 210\n",
            " 275 212 229 218 208 191 181 179 246 255 226 288 253 252 262 236 256 234\n",
            " 254 468 213 237 198 195 239 263 265 274 217 220 307 221 233 257 227 276\n",
            " 225 264 311 277 204 290 266 270 294 319 282 251 322 291 269 240 271 184\n",
            " 231 268 247 273 300 301 267 244 306 293 309 272 242 295 285 243 308 398\n",
            " 303 245 424 279 331 281 339 434 357 325 329 278 332 343 345 360 348 367\n",
            " 353 373 374 406 400 326 379 399 316 341 320 385 355 363 358 296 422 390\n",
            " 335 370 376 375 397 289 542 403 383 384 359 393 337 362 365 435 386 378\n",
            " 313 351 287 471 462 411 450 318 372 371 454 532 445 389 388 407 443 437\n",
            " 451 391 405 412 419 420 426 433 440 429 418 447 461 605 457 475 464 482\n",
            " 626 489 496 503 510 517 524 531 538 545 552 559 566 573 580 587 594 601\n",
            " 608 615 622 629 396 410 395 423 408 409 448 465 387 414 476 479 467 490\n",
            " 493 478 504 507 458 518 521 377 444 380 463]\n",
            "***************************************************************************\n",
            "arrival_date_year\n",
            "[2015 2016 2017]\n",
            "***************************************************************************\n",
            "arrival_date_month\n",
            "['July' 'August' 'September' 'October' 'November' 'December' 'January'\n",
            " 'February' 'March' 'April' 'May' 'June']\n",
            "***************************************************************************\n",
            "arrival_date_week_number\n",
            "[27 28 29 30 31 32 33 34 35 36 37 38 39 40 41 42 43 44 45 46 47 48 49 50\n",
            " 51 52 53  1  2  3  4  5  6  7  8  9 10 11 12 13 14 15 16 17 18 19 20 21\n",
            " 22 23 24 25 26]\n",
            "***************************************************************************\n",
            "arrival_date_day_of_month\n",
            "[ 1  2  3  4  5  6  7  8  9 10 11 12 13 14 15 16 17 18 19 20 21 22 23 24\n",
            " 25 26 27 28 29 30 31]\n",
            "***************************************************************************\n",
            "stays_in_weekend_nights\n",
            "[ 0  1  2  4  3  6 13  8  5  7 12  9 16 18 19 10 14]\n",
            "***************************************************************************\n",
            "stays_in_week_nights\n",
            "[ 0  1  2  3  4  5 10 11  8  6  7 15  9 12 33 20 14 16 21 13 30 19 24 40\n",
            " 22 42 50 25 17 32 26 18 34 35 41]\n",
            "***************************************************************************\n",
            "adults\n",
            "[ 2  1  3  4 40 26 50 27 55  0 20  6  5 10]\n",
            "***************************************************************************\n",
            "children\n",
            "[ 0.  1.  2. 10.  3. nan]\n",
            "***************************************************************************\n",
            "babies\n",
            "[ 0  1  2 10  9]\n",
            "***************************************************************************\n",
            "meal\n",
            "['BB' 'FB' 'HB' 'SC' 'Undefined']\n",
            "***************************************************************************\n",
            "country\n",
            "['PRT' 'GBR' 'USA' 'ESP' 'IRL' 'FRA' nan 'ROU' 'NOR' 'OMN' 'ARG' 'POL'\n",
            " 'DEU' 'BEL' 'CHE' 'CN' 'GRC' 'ITA' 'NLD' 'DNK' 'RUS' 'SWE' 'AUS' 'EST'\n",
            " 'CZE' 'BRA' 'FIN' 'MOZ' 'BWA' 'LUX' 'SVN' 'ALB' 'IND' 'CHN' 'MEX' 'MAR'\n",
            " 'UKR' 'SMR' 'LVA' 'PRI' 'SRB' 'CHL' 'AUT' 'BLR' 'LTU' 'TUR' 'ZAF' 'AGO'\n",
            " 'ISR' 'CYM' 'ZMB' 'CPV' 'ZWE' 'DZA' 'KOR' 'CRI' 'HUN' 'ARE' 'TUN' 'JAM'\n",
            " 'HRV' 'HKG' 'IRN' 'GEO' 'AND' 'GIB' 'URY' 'JEY' 'CAF' 'CYP' 'COL' 'GGY'\n",
            " 'KWT' 'NGA' 'MDV' 'VEN' 'SVK' 'FJI' 'KAZ' 'PAK' 'IDN' 'LBN' 'PHL' 'SEN'\n",
            " 'SYC' 'AZE' 'BHR' 'NZL' 'THA' 'DOM' 'MKD' 'MYS' 'ARM' 'JPN' 'LKA' 'CUB'\n",
            " 'CMR' 'BIH' 'MUS' 'COM' 'SUR' 'UGA' 'BGR' 'CIV' 'JOR' 'SYR' 'SGP' 'BDI'\n",
            " 'SAU' 'VNM' 'PLW' 'QAT' 'EGY' 'PER' 'MLT' 'MWI' 'ECU' 'MDG' 'ISL' 'UZB'\n",
            " 'NPL' 'BHS' 'MAC' 'TGO' 'TWN' 'DJI' 'STP' 'KNA' 'ETH' 'IRQ' 'HND' 'RWA'\n",
            " 'KHM' 'MCO' 'BGD' 'IMN' 'TJK' 'NIC' 'BEN' 'VGB' 'TZA' 'GAB' 'GHA' 'TMP'\n",
            " 'GLP' 'KEN' 'LIE' 'GNB' 'MNE' 'UMI' 'MYT' 'FRO' 'MMR' 'PAN' 'BFA' 'LBY'\n",
            " 'MLI' 'NAM' 'BOL' 'PRY' 'BRB' 'ABW' 'AIA' 'SLV' 'DMA' 'PYF' 'GUY' 'LCA'\n",
            " 'ATA' 'GTM' 'ASM' 'MRT' 'NCL' 'KIR' 'SDN' 'ATF' 'SLE' 'LAO']\n",
            "***************************************************************************\n",
            "market_segment\n",
            "['Direct' 'Corporate' 'Online TA' 'Offline TA/TO' 'Complementary' 'Groups'\n",
            " 'Undefined' 'Aviation']\n",
            "***************************************************************************\n",
            "distribution_channel\n",
            "['Direct' 'Corporate' 'TA/TO' 'Undefined' 'GDS']\n",
            "***************************************************************************\n",
            "is_repeated_guest\n",
            "[0 1]\n",
            "***************************************************************************\n",
            "previous_cancellations\n",
            "[ 0  1  2  3 26 25 14  4 24 19  5 21  6 13 11]\n",
            "***************************************************************************\n",
            "previous_bookings_not_canceled\n",
            "[ 0  1  2  3  4  5  6  7  8  9 10 11 12 13 14 15 16 17 18 20 21 22 23 24\n",
            " 25 27 28 29 30 19 26 31 32 33 34 35 36 37 38 39 40 41 42 43 44 45 46 47\n",
            " 48 49 50 51 52 53 54 55 56 57 58 59 60 61 62 63 64 65 66 67 68 69 70 71\n",
            " 72]\n",
            "***************************************************************************\n",
            "reserved_room_type\n",
            "['C' 'A' 'D' 'E' 'G' 'F' 'H' 'L' 'P' 'B']\n",
            "***************************************************************************\n",
            "assigned_room_type\n",
            "['C' 'A' 'D' 'E' 'G' 'F' 'I' 'B' 'H' 'P' 'L' 'K']\n",
            "***************************************************************************\n",
            "booking_changes\n",
            "[ 3  4  0  1  2  5 17  6  8  7 10 16  9 13 12 20 14 15 11 21 18]\n",
            "***************************************************************************\n",
            "deposit_type\n",
            "['No Deposit' 'Refundable' 'Non Refund']\n",
            "***************************************************************************\n",
            "agent\n",
            "[ nan 304. 240. 303.  15. 241.   8. 250. 115.   5. 175. 134. 156. 243.\n",
            " 242.   3. 105.  40. 147. 306. 184.  96.   2. 127.  95. 146.   9. 177.\n",
            "   6. 143. 244. 149. 167. 300. 171. 305.  67. 196. 152. 142. 261. 104.\n",
            "  36.  26.  29. 258. 110.  71. 181.  88. 251. 275.  69. 248. 208. 256.\n",
            " 314. 126. 281. 273. 253. 185. 330. 334. 328. 326. 321. 324. 313.  38.\n",
            " 155.  68. 335. 308. 332.  94. 348. 310. 339. 375.  66. 327. 387. 298.\n",
            "  91. 245. 385. 257. 393. 168. 405. 249. 315.  75. 128. 307.  11. 436.\n",
            "   1. 201. 183. 223. 368. 336. 291. 464. 411. 481.  10. 154. 468. 410.\n",
            " 390. 440. 495. 492. 493. 434.  57. 531. 420. 483. 526. 472. 429.  16.\n",
            " 446.  34.  78. 139. 252. 270.  47. 114. 301. 193. 182. 135. 350. 195.\n",
            " 352. 355. 159. 363. 384. 360. 331. 367.  64. 406. 163. 414. 333. 427.\n",
            " 431. 430. 426. 438. 433. 418. 441. 282. 432.  72. 450. 180. 454. 455.\n",
            "  59. 451. 254. 358. 469. 165. 467. 510. 337. 476. 502. 527. 479. 508.\n",
            " 535. 302. 497. 187.  13.   7.  27.  14.  22.  17.  28.  42.  20.  19.\n",
            "  45.  37.  61.  39.  21.  24.  41.  50.  30.  54.  52.  12.  44.  31.\n",
            "  83.  32.  63.  60.  55.  56.  89.  87. 118.  86.  85. 210. 214. 129.\n",
            " 179. 138. 174. 170. 153.  93. 151. 119.  35. 173.  58.  53. 133.  79.\n",
            " 235. 192. 191. 236. 162. 215. 157. 287. 132. 234.  98.  77. 103. 107.\n",
            " 262. 220. 121. 205. 378.  23. 296. 290. 229.  33. 286. 276. 425. 484.\n",
            " 323. 403. 219. 394. 509. 111. 423.   4.  70.  82.  81.  74.  92.  99.\n",
            "  90. 112. 117. 106. 148. 158. 144. 211. 213. 216. 232. 150. 267. 227.\n",
            " 247. 278. 280. 285. 289. 269. 295. 265. 288. 122. 294. 325. 341. 344.\n",
            " 346. 359. 283. 364. 370. 371.  25. 141. 391. 397. 416. 404. 299. 197.\n",
            "  73. 354. 444. 408. 461. 388. 453. 459. 474. 475. 480. 449.]\n",
            "***************************************************************************\n",
            "company\n",
            "[ nan 110. 113. 270. 178. 240. 154. 144. 307. 268.  59. 204. 312. 318.\n",
            "  94. 174. 274. 195. 223. 317. 281. 118.  53. 286.  12.  47. 324. 342.\n",
            " 373. 371. 383.  86.  82. 218.  88.  31. 397. 392. 405. 331. 367.  20.\n",
            "  83. 416.  51. 395. 102.  34.  84. 360. 394. 457. 382. 461. 478. 386.\n",
            " 112. 486. 421.   9. 308. 135. 224. 504. 269. 356. 498. 390. 513. 203.\n",
            " 263. 477. 521. 169. 515. 445. 337. 251. 428. 292. 388. 130. 250. 355.\n",
            " 254. 543. 531. 528.  62. 120.  42.  81. 116. 530. 103.  39.  16.  92.\n",
            "  61. 501. 165. 291. 290.  43. 325. 192. 108. 200. 465. 287. 297. 490.\n",
            " 482. 207. 282. 437. 225. 329. 272.  28.  77. 338.  72. 246. 319. 146.\n",
            " 159. 380. 323. 511. 407. 278.  80. 403. 399.  14. 137. 343. 346. 347.\n",
            " 349. 289. 351. 353.  54.  99. 358. 361. 362. 366. 372. 365. 277. 109.\n",
            " 377. 379.  22. 378. 330. 364. 401. 232. 255. 384. 167. 212. 514. 391.\n",
            " 400. 376. 402. 396. 302. 398.   6. 370. 369. 409. 168. 104. 408. 413.\n",
            " 148.  10. 333. 419. 415. 424. 425. 423. 422. 435. 439. 442. 448. 443.\n",
            " 454. 444.  52. 459. 458. 456. 460. 447. 470. 466. 484. 184. 485.  32.\n",
            " 487. 491. 494. 193. 516. 496. 499.  29.  78. 520. 507. 506. 512. 126.\n",
            "  64. 242. 518. 523. 539. 534. 436. 525. 541.  40. 455. 410.  45.  38.\n",
            "  49.  48.  67.  68.  65.  91.  37.   8. 179. 209. 219. 221. 227. 153.\n",
            " 186. 253. 202. 216. 275. 233. 280. 309. 321.  93. 316.  85. 107. 350.\n",
            " 279. 334. 348. 150.  73. 385. 418. 197. 450. 452. 115.  46.  76.  96.\n",
            " 100. 105. 101. 122.  11. 139. 142. 127. 143. 140. 149. 163. 160. 180.\n",
            " 238. 183. 222. 185. 217. 215. 213. 237. 230. 234.  35. 245. 158. 258.\n",
            " 259. 260. 411. 257. 271.  18. 106. 210. 273.  71. 284. 301. 305. 293.\n",
            " 264. 311. 304. 313. 288. 320. 314. 332. 341. 352. 243. 368. 393. 132.\n",
            " 220. 412. 420. 426. 417. 429. 433. 446. 357. 479. 483. 489. 229. 481.\n",
            " 497. 451. 492.]\n",
            "***************************************************************************\n",
            "days_in_waiting_list\n",
            "[  0  50  47  65 122  75 101 150 125  14  60  34 100  22 121  61  39   5\n",
            "   1   8 107  43  52   2  11 142 116  13  44  97  83   4 113  18  20 185\n",
            "  93 109   6  37 105 154  64  99  38  48  33  77  21  80  59  40  58  89\n",
            "  53  49  69  87  91  57 111  79  98  85  63  15   3  41 224  31  56 187\n",
            " 176  71  55  96 236 259 207 215 160 120  30  32  27  62  24 108 147 379\n",
            "  70  35 178 330 223 174 162 391  68 193  10  76  16  28   9 165  17  25\n",
            "  46   7  84 175 183  23 117  12  54  26  73  45  19  42  72  81  92  74\n",
            " 167  36]\n",
            "***************************************************************************\n",
            "customer_type\n",
            "['Transient' 'Contract' 'Transient-Party' 'Group']\n",
            "***************************************************************************\n",
            "adr\n",
            "[  0.    75.    98.   ... 266.75 209.25 157.71]\n",
            "***************************************************************************\n",
            "required_car_parking_spaces\n",
            "[0 1 2 8 3]\n",
            "***************************************************************************\n",
            "total_of_special_requests\n",
            "[0 1 3 2 4 5]\n",
            "***************************************************************************\n",
            "reservation_status\n",
            "['Check-Out' 'Canceled' 'No-Show']\n",
            "***************************************************************************\n",
            "reservation_status_date\n",
            "['2015-07-01' '2015-07-02' '2015-07-03' '2015-05-06' '2015-04-22'\n",
            " '2015-06-23' '2015-07-05' '2015-07-06' '2015-07-07' '2015-07-08'\n",
            " '2015-05-11' '2015-07-15' '2015-07-16' '2015-05-29' '2015-05-19'\n",
            " '2015-06-19' '2015-05-23' '2015-05-18' '2015-07-09' '2015-06-02'\n",
            " '2015-07-13' '2015-07-04' '2015-06-29' '2015-06-16' '2015-06-18'\n",
            " '2015-06-12' '2015-06-09' '2015-05-26' '2015-07-11' '2015-07-12'\n",
            " '2015-07-17' '2015-04-15' '2015-05-13' '2015-07-10' '2015-05-20'\n",
            " '2015-05-12' '2015-07-14' '2015-06-17' '2015-05-01' '2015-03-30'\n",
            " '2015-07-19' '2015-06-03' '2015-06-26' '2015-05-14' '2015-07-20'\n",
            " '2015-05-07' '2015-05-28' '2015-04-13' '2015-03-25' '2015-07-21'\n",
            " '2015-06-27' '2015-07-18' '2015-07-23' '2015-06-08' '2015-06-22'\n",
            " '2015-06-24' '2015-03-05' '2015-06-01' '2015-04-24' '2015-07-22'\n",
            " '2015-05-27' '2015-04-06' '2015-04-11' '2015-07-25' '2015-07-28'\n",
            " '2015-07-29' '2015-06-25' '2015-07-24' '2015-06-05' '2015-06-30'\n",
            " '2015-06-13' '2015-06-11' '2015-07-30' '2015-07-27' '2015-04-29'\n",
            " '2015-06-04' '2015-07-26' '2015-08-01' '2015-08-02' '2015-06-15'\n",
            " '2015-04-23' '2015-07-31' '2015-05-25' '2015-08-03' '2015-04-17'\n",
            " '2015-08-04' '2015-08-06' '2015-05-15' '2015-05-09' '2015-03-17'\n",
            " '2015-05-22' '2015-08-07' '2015-04-04' '2015-08-05' '2015-08-08'\n",
            " '2015-08-10' '2015-05-04' '2015-06-06' '2015-08-09' '2015-08-15'\n",
            " '2015-08-11' '2015-03-28' '2015-08-14' '2015-08-12' '2015-08-16'\n",
            " '2015-05-16' '2015-08-21' '2015-08-13' '2015-08-17' '2015-04-20'\n",
            " '2015-08-18' '2015-08-23' '2015-08-22' '2015-08-19' '2015-08-20'\n",
            " '2015-08-29' '2015-03-31' '2015-05-30' '2015-08-25' '2015-04-14'\n",
            " '2015-08-24' '2015-03-24' '2015-05-21' '2015-08-28' '2015-08-26'\n",
            " '2015-08-27' '2015-08-30' '2015-08-31' '2015-09-06' '2015-09-03'\n",
            " '2015-09-04' '2015-09-02' '2015-09-01' '2015-09-05' '2015-06-20'\n",
            " '2015-09-07' '2015-09-10' '2015-09-11' '2015-09-08' '2015-09-09'\n",
            " '2015-09-13' '2015-09-15' '2015-04-10' '2015-01-02' '2014-11-18'\n",
            " '2015-09-12' '2015-09-17' '2015-09-14' '2015-04-07' '2015-09-19'\n",
            " '2015-09-16' '2015-09-20' '2015-01-18' '2015-10-23' '2015-01-22'\n",
            " '2015-01-01' '2015-09-22' '2015-09-24' '2015-09-18' '2015-09-21'\n",
            " '2015-09-30' '2015-09-25' '2015-09-27' '2015-09-28' '2015-10-12'\n",
            " '2015-09-29' '2015-09-23' '2015-10-01' '2015-09-26' '2015-04-18'\n",
            " '2015-10-02' '2015-10-04' '2015-10-08' '2015-10-03' '2015-10-07'\n",
            " '2015-10-09' '2015-10-11' '2015-10-05' '2015-10-06' '2015-10-10'\n",
            " '2015-10-14' '2015-10-15' '2015-10-18' '2015-10-13' '2015-10-20'\n",
            " '2015-10-19' '2015-10-31' '2015-10-16' '2015-10-21' '2015-10-22'\n",
            " '2015-10-17' '2015-10-24' '2015-10-25' '2015-10-28' '2015-10-27'\n",
            " '2015-10-26' '2015-10-30' '2015-11-05' '2015-10-29' '2015-11-03'\n",
            " '2015-11-07' '2015-11-04' '2015-11-01' '2015-11-02' '2015-11-17'\n",
            " '2015-11-06' '2015-11-10' '2015-11-08' '2015-11-09' '2015-11-15'\n",
            " '2015-11-16' '2015-11-11' '2015-11-12' '2015-11-14' '2015-11-13'\n",
            " '2015-11-18' '2015-11-22' '2015-11-19' '2015-11-21' '2015-11-20'\n",
            " '2015-11-24' '2015-11-25' '2015-11-23' '2015-11-28' '2015-11-26'\n",
            " '2015-11-27' '2015-11-29' '2015-12-04' '2015-12-01' '2015-12-06'\n",
            " '2015-12-08' '2015-12-02' '2015-12-03' '2015-12-31' '2015-12-05'\n",
            " '2015-12-10' '2015-12-17' '2015-11-30' '2015-12-12' '2015-12-07'\n",
            " '2016-01-05' '2015-12-11' '2015-12-13' '2015-12-15' '2015-12-16'\n",
            " '2015-12-19' '2015-12-18' '2015-12-26' '2015-12-27' '2015-12-22'\n",
            " '2015-12-23' '2015-12-24' '2015-12-29' '2015-12-28' '2015-12-20'\n",
            " '2015-12-30' '2016-01-02' '2016-01-01' '2015-12-25' '2016-01-03'\n",
            " '2016-01-04' '2016-01-11' '2016-01-07' '2015-12-21' '2016-01-09'\n",
            " '2016-01-10' '2016-01-08' '2016-01-06' '2016-01-12' '2016-01-13'\n",
            " '2016-01-23' '2016-02-09' '2016-01-15' '2016-01-16' '2016-01-17'\n",
            " '2016-01-19' '2016-01-18' '2016-01-21' '2016-01-24' '2016-01-22'\n",
            " '2016-01-29' '2016-01-27' '2016-01-25' '2016-03-08' '2016-01-26'\n",
            " '2016-01-20' '2016-01-30' '2016-02-01' '2016-02-02' '2016-02-08'\n",
            " '2016-02-07' '2016-01-28' '2016-02-05' '2016-02-03' '2016-02-13'\n",
            " '2016-02-10' '2016-02-04' '2016-02-12' '2016-02-11' '2016-02-16'\n",
            " '2016-02-14' '2016-02-15' '2016-02-20' '2016-02-06' '2016-01-14'\n",
            " '2016-02-17' '2016-02-21' '2016-02-24' '2016-02-25' '2016-02-19'\n",
            " '2016-02-18' '2016-02-26' '2016-02-23' '2016-03-05' '2016-02-22'\n",
            " '2016-02-27' '2016-03-03' '2016-03-24' '2016-03-04' '2016-02-29'\n",
            " '2016-03-01' '2016-03-02' '2016-03-30' '2016-03-07' '2016-03-14'\n",
            " '2016-03-21' '2016-03-09' '2016-03-12' '2016-03-22' '2016-03-10'\n",
            " '2016-03-11' '2016-03-20' '2016-03-15' '2016-03-17' '2016-03-16'\n",
            " '2016-03-19' '2016-03-27' '2016-03-18' '2016-03-26' '2016-03-31'\n",
            " '2016-03-28' '2016-03-29' '2016-04-01' '2016-03-23' '2016-04-02'\n",
            " '2016-03-25' '2016-03-13' '2016-04-04' '2016-04-03' '2016-04-05'\n",
            " '2016-04-08' '2016-04-06' '2016-04-09' '2016-04-12' '2016-04-16'\n",
            " '2016-04-17' '2016-04-27' '2016-04-14' '2016-04-18' '2016-04-21'\n",
            " '2016-04-19' '2016-04-20' '2016-04-10' '2016-04-13' '2016-04-11'\n",
            " '2016-04-07' '2016-04-15' '2016-04-22' '2016-04-23' '2016-04-26'\n",
            " '2016-04-28' '2016-04-24' '2016-04-25' '2016-04-29' '2016-04-30'\n",
            " '2016-05-01' '2016-05-10' '2016-05-02' '2016-05-07' '2016-05-08'\n",
            " '2016-05-12' '2016-05-04' '2016-05-06' '2016-05-03' '2016-05-09'\n",
            " '2016-05-05' '2016-05-13' '2016-05-14' '2016-05-18' '2016-05-19'\n",
            " '2016-05-15' '2016-05-16' '2016-05-11' '2016-05-21' '2016-05-22'\n",
            " '2016-05-20' '2016-05-24' '2016-05-25' '2016-05-26' '2016-05-23'\n",
            " '2016-05-27' '2016-05-17' '2016-05-29' '2016-05-28' '2016-05-30'\n",
            " '2016-05-31' '2016-06-01' '2016-06-03' '2016-06-08' '2016-06-02'\n",
            " '2016-06-05' '2016-06-06' '2016-06-13' '2016-06-07' '2016-06-10'\n",
            " '2016-06-11' '2016-06-16' '2016-06-12' '2016-06-14' '2016-06-17'\n",
            " '2016-06-04' '2016-06-18' '2016-06-21' '2016-06-09' '2016-06-24'\n",
            " '2016-06-20' '2016-06-25' '2016-06-22' '2016-06-26' '2016-06-23'\n",
            " '2016-07-01' '2016-06-15' '2016-06-28' '2016-07-02' '2016-06-19'\n",
            " '2016-06-27' '2016-07-04' '2016-06-30' '2016-07-05' '2016-07-08'\n",
            " '2016-07-09' '2016-07-07' '2016-07-12' '2016-06-29' '2016-07-10'\n",
            " '2016-07-15' '2016-07-03' '2016-07-16' '2016-07-14' '2016-07-18'\n",
            " '2016-07-13' '2016-07-06' '2016-07-20' '2016-07-21' '2016-07-23'\n",
            " '2016-07-19' '2016-07-11' '2016-07-28' '2016-07-17' '2016-07-25'\n",
            " '2016-07-22' '2016-07-29' '2016-08-03' '2016-08-02' '2016-08-04'\n",
            " '2016-08-08' '2016-08-10' '2016-08-01' '2016-08-06' '2016-03-06'\n",
            " '2016-08-05' '2016-07-26' '2016-08-07' '2016-07-30' '2016-07-24'\n",
            " '2016-08-12' '2016-07-27' '2016-08-13' '2016-08-18' '2016-08-16'\n",
            " '2016-08-15' '2016-08-17' '2016-08-11' '2016-07-31' '2016-08-19'\n",
            " '2016-09-01' '2016-08-23' '2016-08-26' '2016-08-20' '2016-08-21'\n",
            " '2016-09-04' '2016-08-22' '2016-08-27' '2016-08-25' '2016-08-09'\n",
            " '2016-09-05' '2016-08-24' '2016-09-10' '2016-08-29' '2016-09-09'\n",
            " '2016-08-30' '2016-09-13' '2016-08-31' '2016-09-14' '2016-09-12'\n",
            " '2016-09-15' '2016-08-14' '2016-09-02' '2016-09-08' '2016-09-19'\n",
            " '2016-09-16' '2016-09-07' '2016-09-21' '2016-09-06' '2016-09-22'\n",
            " '2016-09-17' '2016-09-20' '2016-09-03' '2016-09-26' '2016-09-23'\n",
            " '2016-09-18' '2016-09-29' '2016-10-02' '2016-10-01' '2016-09-27'\n",
            " '2016-09-25' '2016-10-05' '2016-09-11' '2016-09-30' '2016-10-09'\n",
            " '2016-10-03' '2016-10-06' '2016-10-11' '2016-09-24' '2016-10-13'\n",
            " '2016-09-28' '2016-10-08' '2016-10-07' '2016-10-16' '2016-08-28'\n",
            " '2016-10-17' '2016-10-18' '2016-10-10' '2016-10-04' '2016-10-15'\n",
            " '2016-10-19' '2016-10-21' '2016-10-12' '2016-10-24' '2016-10-26'\n",
            " '2016-10-23' '2016-10-20' '2016-10-25' '2016-10-27' '2016-10-28'\n",
            " '2016-10-30' '2016-10-29' '2016-11-01' '2016-11-04' '2016-10-14'\n",
            " '2016-11-07' '2016-11-03' '2016-11-10' '2016-11-14' '2016-11-02'\n",
            " '2016-10-31' '2016-11-11' '2016-11-08' '2016-11-05' '2016-11-25'\n",
            " '2016-11-09' '2016-11-20' '2016-11-21' '2016-10-22' '2016-11-22'\n",
            " '2016-11-16' '2016-11-23' '2016-11-17' '2016-11-06' '2016-11-15'\n",
            " '2016-11-13' '2016-11-12' '2016-11-27' '2016-11-19' '2016-11-30'\n",
            " '2016-11-18' '2016-12-02' '2016-12-04' '2016-11-29' '2016-12-07'\n",
            " '2016-11-28' '2016-12-03' '2016-12-06' '2016-11-24' '2016-12-08'\n",
            " '2016-12-05' '2016-12-10' '2016-12-13' '2016-12-14' '2016-12-16'\n",
            " '2016-12-15' '2016-12-17' '2016-12-19' '2016-12-21' '2016-12-20'\n",
            " '2016-12-22' '2016-12-23' '2016-12-24' '2016-12-01' '2016-12-27'\n",
            " '2016-12-29' '2016-12-30' '2016-12-12' '2017-01-02' '2016-12-11'\n",
            " '2017-01-03' '2017-01-04' '2017-01-01' '2016-12-26' '2017-01-06'\n",
            " '2016-12-28' '2016-12-18' '2017-01-10' '2017-01-11' '2017-01-07'\n",
            " '2017-01-12' '2017-01-16' '2017-01-14' '2017-01-13' '2017-01-05'\n",
            " '2017-01-17' '2017-01-20' '2016-12-09' '2017-01-26' '2016-12-31'\n",
            " '2017-01-23' '2017-01-27' '2017-01-28' '2017-01-19' '2017-01-25'\n",
            " '2017-01-24' '2017-01-29' '2017-01-18' '2016-12-25' '2017-01-15'\n",
            " '2017-01-21' '2017-02-01' '2017-02-02' '2017-01-31' '2017-02-03'\n",
            " '2017-02-04' '2017-02-06' '2017-02-07' '2017-02-08' '2017-01-30'\n",
            " '2017-02-09' '2017-01-09' '2017-02-11' '2017-02-10' '2017-02-12'\n",
            " '2017-02-13' '2017-02-14' '2017-02-16' '2017-02-17' '2017-02-18'\n",
            " '2017-02-19' '2017-02-20' '2017-02-15' '2017-02-21' '2017-02-22'\n",
            " '2017-02-26' '2017-02-23' '2017-02-24' '2017-02-25' '2017-02-28'\n",
            " '2017-03-05' '2017-02-27' '2017-03-03' '2017-03-06' '2017-03-02'\n",
            " '2017-03-08' '2017-03-09' '2017-03-10' '2017-03-07' '2017-03-12'\n",
            " '2017-03-13' '2017-03-14' '2017-03-01' '2017-03-18' '2017-03-17'\n",
            " '2017-03-24' '2017-03-22' '2017-03-26' '2017-03-27' '2017-03-11'\n",
            " '2017-03-28' '2017-03-29' '2017-03-30' '2017-03-31' '2017-03-19'\n",
            " '2017-01-22' '2017-04-02' '2017-03-20' '2017-04-03' '2017-01-08'\n",
            " '2017-03-23' '2017-04-05' '2017-02-05' '2017-04-04' '2017-03-15'\n",
            " '2017-04-07' '2017-03-25' '2017-04-08' '2017-04-06' '2017-03-21'\n",
            " '2017-04-10' '2017-04-01' '2017-04-11' '2017-04-13' '2017-04-15'\n",
            " '2017-04-12' '2017-03-04' '2017-04-19' '2017-04-22' '2017-04-20'\n",
            " '2017-05-02' '2017-04-09' '2017-04-23' '2017-04-24' '2017-04-16'\n",
            " '2017-04-28' '2017-04-18' '2017-04-26' '2017-04-25' '2017-04-17'\n",
            " '2017-04-21' '2017-05-03' '2017-05-04' '2017-03-16' '2017-05-05'\n",
            " '2017-04-29' '2017-04-14' '2017-05-08' '2017-04-27' '2017-05-11'\n",
            " '2017-05-01' '2017-05-10' '2017-05-13' '2017-05-06' '2017-05-14'\n",
            " '2017-05-16' '2017-04-30' '2017-05-15' '2017-05-07' '2017-05-09'\n",
            " '2017-05-17' '2017-05-21' '2017-05-12' '2017-05-22' '2017-05-24'\n",
            " '2017-05-23' '2017-05-25' '2017-05-26' '2017-05-28' '2017-05-27'\n",
            " '2017-05-29' '2017-05-19' '2017-05-31' '2017-05-20' '2017-06-01'\n",
            " '2017-05-30' '2017-06-02' '2016-11-26' '2017-06-04' '2017-06-05'\n",
            " '2017-06-06' '2017-06-07' '2017-05-18' '2017-06-09' '2017-06-10'\n",
            " '2017-06-11' '2017-06-12' '2017-06-14' '2017-06-08' '2017-06-16'\n",
            " '2017-06-13' '2017-06-03' '2017-06-24' '2017-06-20' '2017-06-19'\n",
            " '2017-06-21' '2017-06-26' '2017-06-27' '2017-06-22' '2017-06-28'\n",
            " '2017-06-15' '2017-06-29' '2017-06-30' '2017-06-18' '2017-07-04'\n",
            " '2017-07-08' '2017-07-05' '2017-07-03' '2017-07-07' '2017-07-01'\n",
            " '2017-07-06' '2017-07-11' '2017-07-12' '2017-06-23' '2017-07-13'\n",
            " '2017-07-02' '2017-07-10' '2017-07-14' '2017-07-15' '2017-07-16'\n",
            " '2017-07-18' '2017-07-17' '2017-07-19' '2017-07-20' '2017-07-21'\n",
            " '2017-06-25' '2017-06-17' '2017-07-24' '2017-07-26' '2017-07-09'\n",
            " '2017-07-27' '2017-07-28' '2017-07-31' '2017-07-29' '2017-07-22'\n",
            " '2017-08-02' '2017-08-01' '2017-08-03' '2017-08-04' '2017-07-25'\n",
            " '2017-07-23' '2017-08-09' '2017-08-10' '2017-07-30' '2017-08-07'\n",
            " '2017-08-13' '2017-08-05' '2017-08-14' '2017-08-08' '2017-08-16'\n",
            " '2017-08-17' '2017-08-15' '2017-08-18' '2017-08-20' '2017-08-22'\n",
            " '2017-08-06' '2017-08-25' '2017-08-26' '2017-08-23' '2017-08-11'\n",
            " '2017-08-27' '2017-08-21' '2017-08-29' '2017-08-31' '2017-08-12'\n",
            " '2017-08-19' '2016-01-31' '2017-09-01' '2017-08-28' '2015-04-03'\n",
            " '2015-01-21' '2015-01-28' '2015-01-29' '2015-01-30' '2015-02-02'\n",
            " '2015-02-05' '2015-02-06' '2015-02-09' '2015-02-10' '2015-02-11'\n",
            " '2015-02-12' '2015-02-19' '2015-02-20' '2015-02-23' '2015-02-24'\n",
            " '2015-02-25' '2015-02-26' '2015-02-27' '2015-03-03' '2015-03-04'\n",
            " '2015-03-06' '2015-03-09' '2015-03-11' '2015-03-12' '2015-03-18'\n",
            " '2015-04-02' '2015-06-14' '2015-04-08' '2015-04-16' '2015-04-25'\n",
            " '2015-04-28' '2015-05-08' '2017-09-06' '2016-02-28' '2015-12-09'\n",
            " '2015-12-14' '2017-09-09' '2017-09-02' '2017-08-24' '2017-08-30'\n",
            " '2017-09-03' '2017-09-04' '2017-09-05' '2017-09-07' '2017-09-08'\n",
            " '2017-09-10' '2017-09-12' '2017-09-14' '2015-04-30' '2015-04-21'\n",
            " '2015-04-05' '2015-03-13' '2015-05-05' '2015-03-29' '2015-06-10'\n",
            " '2015-04-27' '2014-10-17' '2015-01-20' '2015-02-17' '2015-03-10'\n",
            " '2015-03-23']\n",
            "***************************************************************************\n"
          ]
        }
      ]
    },
    {
      "cell_type": "markdown",
      "source": [
        "## 3. ***Data Wrangling***"
      ],
      "metadata": {
        "id": "dauF4eBmngu3"
      }
    },
    {
      "cell_type": "markdown",
      "source": [
        "### Data Wrangling Code"
      ],
      "metadata": {
        "id": "bKJF3rekwFvQ"
      }
    },
    {
      "cell_type": "code",
      "source": [
        "# Write your code to make your dataset analysis ready.\n",
        "\n",
        "# Dropping duplicate values\n",
        "df1.drop_duplicates(inplace = True)"
      ],
      "metadata": {
        "id": "wk-9a2fpoLcV"
      },
      "execution_count": 14,
      "outputs": []
    },
    {
      "cell_type": "code",
      "source": [
        "#shape of dataframe after dropping duplicates\n",
        "df1.shape"
      ],
      "metadata": {
        "colab": {
          "base_uri": "https://localhost:8080/"
        },
        "id": "0U9Ofh6uPZqD",
        "outputId": "638e41cc-55b7-4448-8bc1-6ed59b6a4d56"
      },
      "execution_count": 15,
      "outputs": [
        {
          "output_type": "execute_result",
          "data": {
            "text/plain": [
              "(87396, 32)"
            ]
          },
          "metadata": {},
          "execution_count": 15
        }
      ]
    },
    {
      "cell_type": "code",
      "source": [
        "df1[['company','agent']] = df1[['company','agent']].fillna(0)         #filling missing col of company and agent with zero"
      ],
      "metadata": {
        "id": "Am_eSvSqPdc_"
      },
      "execution_count": 16,
      "outputs": []
    },
    {
      "cell_type": "code",
      "source": [
        "df1['country'].fillna(\"others\", inplace = True)     #filling the NAN values of countries column with \"others\""
      ],
      "metadata": {
        "id": "6hO_PlY2Qrg9"
      },
      "execution_count": 17,
      "outputs": []
    },
    {
      "cell_type": "code",
      "source": [
        "df1.isnull().sum().sort_values(ascending = False)[:3]"
      ],
      "metadata": {
        "colab": {
          "base_uri": "https://localhost:8080/"
        },
        "id": "nXlDeJV2QHOf",
        "outputId": "9887f419-6d79-4d25-c772-34610f833336"
      },
      "execution_count": 18,
      "outputs": [
        {
          "output_type": "execute_result",
          "data": {
            "text/plain": [
              "children                  4\n",
              "hotel                     0\n",
              "previous_cancellations    0\n",
              "dtype: int64"
            ]
          },
          "metadata": {},
          "execution_count": 18
        }
      ]
    },
    {
      "cell_type": "code",
      "source": [
        "df1['children'].fillna(df1['children'].mean, inplace = True)        #replacing null values of students with mean values"
      ],
      "metadata": {
        "id": "PKajKFWYVAdV"
      },
      "execution_count": 19,
      "outputs": []
    },
    {
      "cell_type": "code",
      "source": [
        "# Checking if all null values are removed\n",
        "df1.isnull().sum().sort_values(ascending = False)[:3] #checking for any column having null values"
      ],
      "metadata": {
        "id": "w_C-mqXmVcod",
        "outputId": "90b1be36-d069-4962-b257-5a5c1070162b",
        "colab": {
          "base_uri": "https://localhost:8080/"
        }
      },
      "execution_count": 20,
      "outputs": [
        {
          "output_type": "execute_result",
          "data": {
            "text/plain": [
              "hotel                 0\n",
              "is_canceled           0\n",
              "reservation_status    0\n",
              "dtype: int64"
            ]
          },
          "metadata": {},
          "execution_count": 20
        }
      ]
    },
    {
      "cell_type": "code",
      "source": [
        "#type casting company abd agent columns to interger\n",
        "df1[['company', 'agent']] = df1[['company', 'agent']].astype('int64')"
      ],
      "metadata": {
        "id": "6fHTCmasfz4z"
      },
      "execution_count": 21,
      "outputs": []
    },
    {
      "cell_type": "code",
      "source": [
        "# the to_numeric() function with the errors='coerce' parameter to convert the 'children' column to numeric values.\n",
        "# The errors='coerce' option will replace non-numeric values with NaN.\n",
        "\n",
        "df1['children'] = pd.to_numeric(df1['children'], errors='coerce')"
      ],
      "metadata": {
        "id": "r1ZvsD9ZjMEZ"
      },
      "execution_count": 22,
      "outputs": []
    },
    {
      "cell_type": "code",
      "source": [
        "df1['children'] = df1['children'].fillna(df1['children'].mean()).astype(int)     #filling NAN with mean children and converting into integer"
      ],
      "metadata": {
        "id": "0Fxix-OQkaEy"
      },
      "execution_count": 23,
      "outputs": []
    },
    {
      "cell_type": "code",
      "source": [
        "#checking if all the rows are converted to desired data type\n",
        "df1.info()"
      ],
      "metadata": {
        "id": "ufn071GyOa1K",
        "outputId": "7fbe25f3-3974-44fa-b56c-5d792e41d0df",
        "colab": {
          "base_uri": "https://localhost:8080/"
        }
      },
      "execution_count": 24,
      "outputs": [
        {
          "output_type": "stream",
          "name": "stdout",
          "text": [
            "<class 'pandas.core.frame.DataFrame'>\n",
            "Int64Index: 87396 entries, 0 to 119389\n",
            "Data columns (total 32 columns):\n",
            " #   Column                          Non-Null Count  Dtype  \n",
            "---  ------                          --------------  -----  \n",
            " 0   hotel                           87396 non-null  object \n",
            " 1   is_canceled                     87396 non-null  int64  \n",
            " 2   lead_time                       87396 non-null  int64  \n",
            " 3   arrival_date_year               87396 non-null  int64  \n",
            " 4   arrival_date_month              87396 non-null  object \n",
            " 5   arrival_date_week_number        87396 non-null  int64  \n",
            " 6   arrival_date_day_of_month       87396 non-null  int64  \n",
            " 7   stays_in_weekend_nights         87396 non-null  int64  \n",
            " 8   stays_in_week_nights            87396 non-null  int64  \n",
            " 9   adults                          87396 non-null  int64  \n",
            " 10  children                        87396 non-null  int64  \n",
            " 11  babies                          87396 non-null  int64  \n",
            " 12  meal                            87396 non-null  object \n",
            " 13  country                         87396 non-null  object \n",
            " 14  market_segment                  87396 non-null  object \n",
            " 15  distribution_channel            87396 non-null  object \n",
            " 16  is_repeated_guest               87396 non-null  int64  \n",
            " 17  previous_cancellations          87396 non-null  int64  \n",
            " 18  previous_bookings_not_canceled  87396 non-null  int64  \n",
            " 19  reserved_room_type              87396 non-null  object \n",
            " 20  assigned_room_type              87396 non-null  object \n",
            " 21  booking_changes                 87396 non-null  int64  \n",
            " 22  deposit_type                    87396 non-null  object \n",
            " 23  agent                           87396 non-null  int64  \n",
            " 24  company                         87396 non-null  int64  \n",
            " 25  days_in_waiting_list            87396 non-null  int64  \n",
            " 26  customer_type                   87396 non-null  object \n",
            " 27  adr                             87396 non-null  float64\n",
            " 28  required_car_parking_spaces     87396 non-null  int64  \n",
            " 29  total_of_special_requests       87396 non-null  int64  \n",
            " 30  reservation_status              87396 non-null  object \n",
            " 31  reservation_status_date         87396 non-null  object \n",
            "dtypes: float64(1), int64(19), object(12)\n",
            "memory usage: 22.0+ MB\n"
          ]
        }
      ]
    },
    {
      "cell_type": "markdown",
      "source": [
        "### Number rows where total no of people is zero"
      ],
      "metadata": {
        "id": "5tkpjEn2l9Tb"
      }
    },
    {
      "cell_type": "code",
      "source": [
        "df1[df1['adults']+df1['babies']+df1['children'] == 0].shape  #number rows where total no of people is zero"
      ],
      "metadata": {
        "id": "I9YLSAkdk3yb",
        "outputId": "81ea7ff0-15c9-464d-ecf3-117de890d8fe",
        "colab": {
          "base_uri": "https://localhost:8080/"
        }
      },
      "execution_count": 25,
      "outputs": [
        {
          "output_type": "execute_result",
          "data": {
            "text/plain": [
              "(166, 32)"
            ]
          },
          "metadata": {},
          "execution_count": 25
        }
      ]
    },
    {
      "cell_type": "code",
      "source": [
        " # dropping number rows where total no of people is zero\n",
        "df1.drop(df1[df1['adults']+df1['babies']+df1['children'] == 0].index,inplace = True)"
      ],
      "metadata": {
        "id": "ZJKnGKeUlRl5"
      },
      "execution_count": 26,
      "outputs": []
    },
    {
      "cell_type": "markdown",
      "source": [
        "### Changing date column to datetime format"
      ],
      "metadata": {
        "id": "DYlO02rEmDUY"
      }
    },
    {
      "cell_type": "code",
      "source": [
        "#changing to datetime format\n",
        "df1['reservation_status_date'] = pd.to_datetime(df1['reservation_status_date'], format = '%Y-%m-%d')"
      ],
      "metadata": {
        "id": "TEBsTst-gkwc"
      },
      "execution_count": 27,
      "outputs": []
    },
    {
      "cell_type": "markdown",
      "source": [
        "### Adding important column\n"
      ],
      "metadata": {
        "id": "GnBvPlA3mWOy"
      }
    },
    {
      "cell_type": "code",
      "source": [
        "# Adding total staying days in hotels\n",
        "df1['total_stay'] = df1['stays_in_weekend_nights']+df1['stays_in_week_nights']\n",
        "\n",
        "# Adding total people num as column, i.e. total people num = num of adults + children + babies\n",
        "df1['total_people'] = df1['adults']+df1['children']+df1['babies']"
      ],
      "metadata": {
        "id": "2Lzi3mVImniX"
      },
      "execution_count": 28,
      "outputs": []
    },
    {
      "cell_type": "code",
      "source": [
        "df1.shape"
      ],
      "metadata": {
        "id": "Hr5PI2UZma-n",
        "outputId": "dadb99b8-ce55-46c5-a1eb-71b21edacde5",
        "colab": {
          "base_uri": "https://localhost:8080/"
        }
      },
      "execution_count": 29,
      "outputs": [
        {
          "output_type": "execute_result",
          "data": {
            "text/plain": [
              "(87230, 34)"
            ]
          },
          "metadata": {},
          "execution_count": 29
        }
      ]
    },
    {
      "cell_type": "markdown",
      "source": [
        "### What all manipulations have you done and insights you found?"
      ],
      "metadata": {
        "id": "MSa1f5Uengrz"
      }
    },
    {
      "cell_type": "markdown",
      "source": [
        "Manipulation and insights :    \n",
        "- removing duplicates, after removing duplicates 87396 rows and 32 columns.\n",
        "- replacing Null values from company and agent with Zero(0), because company and agent columns have comany number and agent numbers as data. There may be some cases when customer didnt booked hotel via any agent or via any company. So in that case values can be null under these columns.\n",
        "-filling the NAN values of countries column with \"others\"\n",
        "-replacing null values of students with mean values\n",
        "- changing the data type of the columns to desired data type.\n",
        "- Checking if the sum of children, babies, adult is zero i.e total guest as zero. Therefore deleting such rows.\n",
        "- Adding two new columns to the dataframe they are:\n",
        "-- Total No of days of stays  = Stay at weekend + stay at weekdays\n",
        "-- Total No of guest = No of adult + children + babies\n",
        "\n",
        "After the data being cleaned it is ready for analysis"
      ],
      "metadata": {
        "id": "LbyXE7I1olp8"
      }
    },
    {
      "cell_type": "markdown",
      "source": [
        "## ***4. Data Vizualization, Storytelling & Experimenting with charts : Understand the relationships between variables***"
      ],
      "metadata": {
        "id": "GF8Ens_Soomf"
      }
    },
    {
      "cell_type": "markdown",
      "source": [
        "#### Chart - 1"
      ],
      "metadata": {
        "id": "0wOQAZs5pc--"
      }
    },
    {
      "cell_type": "code",
      "source": [
        "# Chart - 1 visualization code\n",
        "grouped_by_hotel = df1.groupby('hotel')\n",
        "d1 = df1.groupby('hotel').size().reset_index().rename(columns = {0:'Booking %'})\n",
        "plt.pie(d1['Booking %'], labels = d1['hotel'], autopct = '%0.1f%%', explode = [0.03,0.01], radius = 1.2, labeldistance = 0.4 )\n",
        "\n",
        "plt.title(\"Percentage of bookings in each hotel\")\n",
        "plt.legend(loc = 'center')\n",
        "\n",
        "plt.show()"
      ],
      "metadata": {
        "id": "7v_ESjsspbW7",
        "outputId": "ad3f3823-9601-4b4d-9c35-92c702e9a96f",
        "colab": {
          "base_uri": "https://localhost:8080/",
          "height": 428
        }
      },
      "execution_count": 60,
      "outputs": [
        {
          "output_type": "display_data",
          "data": {
            "text/plain": [
              "<Figure size 640x480 with 1 Axes>"
            ],
            "image/png": "[encoded data removed]"
          },
          "metadata": {}
        }
      ]
    },
    {
      "cell_type": "markdown",
      "source": [
        "##### 1. Why did you pick the specific chart?"
      ],
      "metadata": {
        "id": "K5QZ13OEpz2H"
      }
    },
    {
      "cell_type": "markdown",
      "source": [
        "Pie chart helps to visualize the percentage of booking across various hotel."
      ],
      "metadata": {
        "id": "XESiWehPqBRc"
      }
    },
    {
      "cell_type": "markdown",
      "source": [
        "##### 2. What is/are the insight(s) found from the chart?"
      ],
      "metadata": {
        "id": "lQ7QKXXCp7Bj"
      }
    },
    {
      "cell_type": "markdown",
      "source": [
        "It is found that most people book city hotels rather than resort hotel. None the less resort hotel booking are 40% which is comparative with city hotel."
      ],
      "metadata": {
        "id": "C_j1G7yiqdRP"
      }
    },
    {
      "cell_type": "markdown",
      "source": [
        "##### 3. Will the gained insights help creating a positive business impact?\n",
        "Are there any insights that lead to negative growth? Justify with specific reason."
      ],
      "metadata": {
        "id": "448CDAPjqfQr"
      }
    },
    {
      "cell_type": "markdown",
      "source": [
        "City hotel booking is 61% and resort hotel booking is 39%. Better services and recreation activities must be provided in resort hotels for attraction more customers while city hotels should continue providing better services to keep up the trend."
      ],
      "metadata": {
        "id": "3cspy4FjqxJW"
      }
    },
    {
      "cell_type": "markdown",
      "source": [
        "#### Chart - 2"
      ],
      "metadata": {
        "id": "KSlN3yHqYklG"
      }
    },
    {
      "cell_type": "code",
      "source": [
        "# Chart - 2 visualization code\n",
        "c2 = df1.is_canceled.value_counts().reset_index().rename(columns = {'index':'cancellation', 'is_canceled':'number'} )\n",
        "c2['cancellation'] = ['Not Cancelled', 'Cancelled']\n",
        "\n",
        "plt.pie(c2['number'], labels = c2['cancellation'], autopct = '%0.1f%%', explode = [0.05,0.05], radius = 1.2, labeldistance = 0.4 )\n",
        "plt.title(\" Percentage of cancellation\")\n",
        "plt.legend(loc = 'center')\n",
        "\n",
        "plt.show()\n",
        "\n",
        "\n"
      ],
      "metadata": {
        "id": "R4YgtaqtYklH",
        "outputId": "67a3d291-cbfb-404b-9ae1-1f4776685633",
        "colab": {
          "base_uri": "https://localhost:8080/",
          "height": 428
        }
      },
      "execution_count": 56,
      "outputs": [
        {
          "output_type": "display_data",
          "data": {
            "text/plain": [
              "<Figure size 640x480 with 1 Axes>"
            ],
            "image/png": "[encoded data removed]"
          },
          "metadata": {}
        }
      ]
    },
    {
      "cell_type": "markdown",
      "source": [
        "##### 1. Why did you pick the specific chart?"
      ],
      "metadata": {
        "id": "t6dVpIINYklI"
      }
    },
    {
      "cell_type": "markdown",
      "source": [
        "Pie chart is better for showing percentage distribution."
      ],
      "metadata": {
        "id": "5aaW0BYyYklI"
      }
    },
    {
      "cell_type": "markdown",
      "source": [
        "##### 2. What is/are the insight(s) found from the chart?"
      ],
      "metadata": {
        "id": "ijmpgYnKYklI"
      }
    },
    {
      "cell_type": "markdown",
      "source": [
        "The Cancelled Order is 27.5%\n"
      ],
      "metadata": {
        "id": "PSx9atu2YklI"
      }
    },
    {
      "cell_type": "markdown",
      "source": [
        "##### 3. Will the gained insights help creating a positive business impact?\n",
        "Are there any insights that lead to negative growth? Justify with specific reason."
      ],
      "metadata": {
        "id": "-JiQyfWJYklI"
      }
    },
    {
      "cell_type": "markdown",
      "source": [
        "- Understanding patterns in cancellations helps with demand forecasting. Hotels can better allocate resources, such as staff and inventory, based on historical cancellation data, reducing operational costs during periods of lower occupancy.\n",
        "- By understanding why customers cancel their reservations, the hotel can adjust its pricing strategies, promotions, or policies to reduce cancellations.\n",
        "\n"
      ],
      "metadata": {
        "id": "BcBbebzrYklV"
      }
    },
    {
      "cell_type": "markdown",
      "source": [
        "#### Chart - 3"
      ],
      "metadata": {
        "id": "EM7whBJCYoAo"
      }
    },
    {
      "cell_type": "code",
      "source": [
        "# Chart - 3 visualization code\n",
        "plt.figure(figsize = (12,6))\n",
        "sns.boxplot(y = 'adr', x = 'total_stay', data = df1)\n",
        "plt.show()"
      ],
      "metadata": {
        "id": "t6GMdE67YoAp",
        "colab": {
          "base_uri": "https://localhost:8080/",
          "height": 542
        },
        "outputId": "c70b567e-1bbb-4abf-be6d-8b9942a4280c"
      },
      "execution_count": 63,
      "outputs": [
        {
          "output_type": "display_data",
          "data": {
            "text/plain": [
              "<Figure size 1200x600 with 1 Axes>"
            ],
            "image/png": "[encoded data removed]"
          },
          "metadata": {}
        }
      ]
    },
    {
      "cell_type": "markdown",
      "source": [
        "We notice that there is an outlier in adr, so we will remove that for better scatter plot"
      ],
      "metadata": {
        "id": "QKDPuYbEyM8d"
      }
    },
    {
      "cell_type": "code",
      "source": [
        "df1.drop(df1[df1['adr'] >= 5000].index, inplace = True)\n",
        "plt.figure(figsize = (12,6))\n",
        "sns.scatterplot(y = 'adr', x = 'total_stay', data = df1)\n",
        "plt.show()"
      ],
      "metadata": {
        "colab": {
          "base_uri": "https://localhost:8080/",
          "height": 542
        },
        "id": "zKnSLsNNyMXT",
        "outputId": "ee88591e-1ef6-443b-9f93-f42f3fe7ca19"
      },
      "execution_count": 66,
      "outputs": [
        {
          "output_type": "display_data",
          "data": {
            "text/plain": [
              "<Figure size 1200x600 with 1 Axes>"
            ],
            "image/png": "[encoded data removed]"
          },
          "metadata": {}
        }
      ]
    },
    {
      "cell_type": "markdown",
      "source": [
        "##### 1. Why did you pick the specific chart?"
      ],
      "metadata": {
        "id": "fge-S5ZAYoAp"
      }
    },
    {
      "cell_type": "markdown",
      "source": [
        "First I used boxplot to find the outlier in ADR then used scatterplot to find the relation between total stays and adr."
      ],
      "metadata": {
        "id": "5dBItgRVYoAp"
      }
    },
    {
      "cell_type": "markdown",
      "source": [
        "##### 2. What is/are the insight(s) found from the chart?"
      ],
      "metadata": {
        "id": "85gYPyotYoAp"
      }
    },
    {
      "cell_type": "markdown",
      "source": [
        "From the scatter plot we can see that as length of tottal_stay increases the adr decreases. This means for longer stay, the better deal for customer can be finalised."
      ],
      "metadata": {
        "id": "4jstXR6OYoAp"
      }
    },
    {
      "cell_type": "markdown",
      "source": [
        "##### 3. Will the gained insights help creating a positive business impact?\n",
        "Are there any insights that lead to negative growth? Justify with specific reason."
      ],
      "metadata": {
        "id": "RoGjAbkUYoAp"
      }
    },
    {
      "cell_type": "markdown",
      "source": [
        "Positive Impact:\n",
        "- Increased Revenue from Longer Stays: While ADR may be lower for longer stays, the cumulative revenue from a longer booking can be substantial. Hotels can benefit from longer guest stays by offering competitive pricing that encourages guests to stay for an extended duration.\n",
        "\n",
        "Negative Impact:\n",
        "- Lower Short-Term Revenue: While longer stays may yield higher cumulative revenue, there may be a short-term decrease in ADR. This could lead to lower immediate revenue compared to shorter stays with higher ADR.\n",
        "\n",
        "- Inventory Management: Longer stays tie up room inventory for an extended period. Hotels need to carefully manage their inventory to ensure that longer stays do not hinder their ability to accommodate shorter stays during peak demand periods."
      ],
      "metadata": {
        "id": "zfJ8IqMcYoAp"
      }
    },
    {
      "cell_type": "markdown",
      "source": [
        "#### Chart - 4"
      ],
      "metadata": {
        "id": "4Of9eVA-YrdM"
      }
    },
    {
      "cell_type": "code",
      "source": [
        "plt.figure(figsize = (12,6))\n",
        "sns.set_style(\"whitegrid\")\n",
        "ax = sns.barplot(y = 'adr', x = 'arrival_date_month', data = df1)\n",
        "\n",
        "\n",
        "plt.show()"
      ],
      "metadata": {
        "id": "irlUoxc8YrdO",
        "colab": {
          "base_uri": "https://localhost:8080/",
          "height": 542
        },
        "outputId": "f9bd765b-b68d-4ad9-e994-19dcea15d99f"
      },
      "execution_count": 77,
      "outputs": [
        {
          "output_type": "display_data",
          "data": {
            "text/plain": [
              "<Figure size 1200x600 with 1 Axes>"
            ],
            "image/png": "[encoded data removed]"
          },
          "metadata": {}
        }
      ]
    },
    {
      "cell_type": "markdown",
      "source": [
        "##### 1. Why did you pick the specific chart?"
      ],
      "metadata": {
        "id": "iky9q4vBYrdO"
      }
    },
    {
      "cell_type": "markdown",
      "source": [
        "\n",
        "A barplot comparing Average Daily Rate (ADR) against different months can provide valuable insights into the seasonal pricing trends of a hotel."
      ],
      "metadata": {
        "id": "aJRCwT6DYrdO"
      }
    },
    {
      "cell_type": "markdown",
      "source": [
        "##### 2. What is/are the insight(s) found from the chart?"
      ],
      "metadata": {
        "id": "F6T5p64dYrdO"
      }
    },
    {
      "cell_type": "markdown",
      "source": [
        "It can be seen from the bar plot that the months APRIL, MAY, JUNE, JULY, AUGUST,SEPMTEMBER has higher ADR while months OCT, NOV, DEC, JAN, FEB, MARCH has ADR less than 100.\n"
      ],
      "metadata": {
        "id": "Xx8WAJvtYrdO"
      }
    },
    {
      "cell_type": "markdown",
      "source": [
        "##### 3. Will the gained insights help creating a positive business impact?\n",
        "Are there any insights that lead to negative growth? Justify with specific reason."
      ],
      "metadata": {
        "id": "y-Ehk30pYrdP"
      }
    },
    {
      "cell_type": "markdown",
      "source": [
        "Barplot of ADR vs. Months, it can reveal several things:\n",
        "\n",
        "- Seasonal Patterns: By looking at the barplot, we can identify whether there are clear seasonal patterns in ADR. For instance, we observe that ADR tends to be higher during peak tourist months (e.g., summer) and lower during off-peak months (e.g., winter).\n",
        "\n",
        "- Demand Variations: ADR can be influenced by supply and demand. The barplot can show you which months have higher demand, leading to higher prices, and which months have lower demand, resulting in lower prices.\n",
        "\n",
        "- Business Strategy: The plot can reveal whether the hotel employs revenue management strategies. For example, ADR may be intentionally lowered during the off-season to attract more guests, or it may be raised during peak season to maximize revenue.\n",
        "\n",
        "- Revenue Potential: Understanding the monthly ADR can help estimate revenue potential for different periods of the year, aiding in budgeting and financial planning.\n"
      ],
      "metadata": {
        "id": "jLNxxz7MYrdP"
      }
    },
    {
      "cell_type": "markdown",
      "source": [
        "#### Chart - 5"
      ],
      "metadata": {
        "id": "bamQiAODYuh1"
      }
    },
    {
      "cell_type": "code",
      "source": [
        "# Chart - 5 visualization code\n",
        "c5 = df1.groupby('agent')\n",
        "\n",
        "c5  = c5.size().reset_index().sort_values(by = 0, ascending = False)[:11]\n",
        "c5.rename(columns = {0: 'No_of_Bookings'}, inplace = True)\n",
        "c5.drop(d1[c5['agent'] == 0].index, inplace = True)\n",
        "\n",
        "sns.barplot(x = 'agent', y = 'No_of_Bookings',data = c5, order = c5.sort_values('No_of_Bookings', ascending = False).agent)\n",
        "\n",
        "plt.title(\"Agent with highest booking\")\n",
        "plt.show()\n"
      ],
      "metadata": {
        "id": "TIJwrbroYuh3",
        "colab": {
          "base_uri": "https://localhost:8080/",
          "height": 507
        },
        "outputId": "9301a029-d7e0-4a0f-a079-ee24cb076e85"
      },
      "execution_count": 121,
      "outputs": [
        {
          "output_type": "stream",
          "name": "stderr",
          "text": [
            "<ipython-input-121-67a30012e775>:6: UserWarning: Boolean Series key will be reindexed to match DataFrame index.\n",
            "  c5.drop(d1[c5['agent'] == 0].index, inplace = True)\n"
          ]
        },
        {
          "output_type": "display_data",
          "data": {
            "text/plain": [
              "<Figure size 640x480 with 1 Axes>"
            ],
            "image/png": "[encoded data removed]"
          },
          "metadata": {}
        }
      ]
    },
    {
      "cell_type": "markdown",
      "source": [
        "##### 1. Why did you pick the specific chart?"
      ],
      "metadata": {
        "id": "QHF8YVU7Yuh3"
      }
    },
    {
      "cell_type": "markdown",
      "source": [
        "Barplot can easily compare different agents with booking number"
      ],
      "metadata": {
        "id": "dcxuIMRPYuh3"
      }
    },
    {
      "cell_type": "markdown",
      "source": [
        "##### 2. What is/are the insight(s) found from the chart?"
      ],
      "metadata": {
        "id": "GwzvFGzlYuh3"
      }
    },
    {
      "cell_type": "markdown",
      "source": [
        "The plot shows top 10 agents with no of bookings. It is seen that Agent No 9 and 10 makes most of the bookings."
      ],
      "metadata": {
        "id": "uyqkiB8YYuh3"
      }
    },
    {
      "cell_type": "markdown",
      "source": [
        "##### 3. Will the gained insights help creating a positive business impact?\n",
        "Are there any insights that lead to negative growth? Justify with specific reason."
      ],
      "metadata": {
        "id": "qYpmQ266Yuh3"
      }
    },
    {
      "cell_type": "markdown",
      "source": [
        "Knowing which agent makes the highest bookings in a hotel business can provide valuable insights and opportunities to improve and optimize various aspects of the business.\n",
        "- Marketing and Collaboration: Identify the top-performing agent and establish a strong working relationship with them. Collaborate on marketing efforts, special promotions, and exclusive deals to attract more bookings through their channel.\n",
        "- Pricing Strategy: Adjust your pricing strategy for the agent's bookings. If this agent consistently brings in a high volume of customers, consider offering them competitive rates or special discounts to maintain the relationship and encourage more bookings.\n",
        "- Quality Control: Monitor the quality of service provided to guests booked through the top agent. Ensuring a positive guest experience will lead to repeat business and positive reviews."
      ],
      "metadata": {
        "id": "_WtzZ_hCYuh4"
      }
    },
    {
      "cell_type": "markdown",
      "source": [
        "#### Chart - 6"
      ],
      "metadata": {
        "id": "OH-pJp9IphqM"
      }
    },
    {
      "cell_type": "code",
      "source": [
        "# Chart - 6 visualization code\n",
        "c6 = df1.groupby('country').size().reset_index().sort_values(by = 0, ascending = False).rename(columns = {0:'no_of_booking'})[:10]\n",
        "\n",
        "sns.barplot(data = c6, x = 'country', y = 'no_of_booking' )\n",
        "plt.title(\"Country having highest booking\")\n",
        "plt.show()\n"
      ],
      "metadata": {
        "id": "kuRf4wtuphqN",
        "colab": {
          "base_uri": "https://localhost:8080/",
          "height": 472
        },
        "outputId": "2047cf7a-e130-4f00-d0c1-48ed9a241137"
      },
      "execution_count": 142,
      "outputs": [
        {
          "output_type": "display_data",
          "data": {
            "text/plain": [
              "<Figure size 640x480 with 1 Axes>"
            ],
            "image/png": "[encoded data removed]"
          },
          "metadata": {}
        }
      ]
    },
    {
      "cell_type": "markdown",
      "source": [
        "##### 1. Why did you pick the specific chart?"
      ],
      "metadata": {
        "id": "bbFf2-_FphqN"
      }
    },
    {
      "cell_type": "markdown",
      "source": [
        "Barplot helps us easy visualization of no of booking from various country."
      ],
      "metadata": {
        "id": "loh7H2nzphqN"
      }
    },
    {
      "cell_type": "markdown",
      "source": [
        "##### 2. What is/are the insight(s) found from the chart?"
      ],
      "metadata": {
        "id": "_ouA3fa0phqN"
      }
    },
    {
      "cell_type": "markdown",
      "source": [
        "From the barplot we see that the country which has highest booking are:\n",
        "- PRT: Portugal\n",
        "- GBR: United Kingdom (Great Britain and Northern Ireland)\n",
        "- FRA: France\n",
        "- ESP: Spain\n",
        "- DEU: Germany\n",
        "- ITA: Italy\n",
        "- IRL: Ireland\n",
        "- BEL: Belgium\n",
        "- BRA: Brazil\n",
        "- NLD: Netherlands"
      ],
      "metadata": {
        "id": "VECbqPI7phqN"
      }
    },
    {
      "cell_type": "markdown",
      "source": [
        "##### 3. Will the gained insights help creating a positive business impact?\n",
        "Are there any insights that lead to negative growth? Justify with specific reason."
      ],
      "metadata": {
        "id": "Seke61FWphqN"
      }
    },
    {
      "cell_type": "markdown",
      "source": [
        "- Top-Performing Countries: Identifying the countries with the highest number of bookings (e.g., Portugal, United Kingdom, France) can help the business focus its marketing and expansion efforts in those regions to further boost\n",
        "bookings.\n",
        "- Understanding where the majority of bookings come from allows the business to allocate resources efficiently, such as providing customer support in the most commonly booked languages."
      ],
      "metadata": {
        "id": "DW4_bGpfphqN"
      }
    },
    {
      "cell_type": "markdown",
      "source": [
        "#### Chart - 7"
      ],
      "metadata": {
        "id": "PIIx-8_IphqN"
      }
    },
    {
      "cell_type": "code",
      "source": [
        "# Chart - 7 visualization code\n",
        "fig, axes = plt.subplots(1, 2, figsize=(18, 8))\n",
        "\n",
        "grp_by_room = df1.groupby('assigned_room_type')\n",
        "# d1['Num_of_bookings'] = grp_by_room.size()\n",
        "\n",
        "sns.countplot(ax = axes[0], x = df1['assigned_room_type'])\n",
        "axes[0].set_title(\"Room type in most demand \", fontsize = 15)\n",
        "axes[0].set_xlabel(\"Room Type\", fontsize = 15)\n",
        "axes[0].set_ylabel(\"No of Booking\", fontsize = 15)\n",
        "\n",
        "sns.boxplot(ax = axes[1], x = df1['assigned_room_type'], y = df1['adr'])\n",
        "axes[1].set_title(\"Room type generating highest Revenue\", fontsize = 15)\n",
        "axes[1].set_xlabel(\"Room Type\", fontsize = 15)\n",
        "axes[1].set_ylabel(\"ADR\", fontsize = 15)\n",
        "plt.show()\n"
      ],
      "metadata": {
        "id": "lqAIGUfyphqO",
        "colab": {
          "base_uri": "https://localhost:8080/",
          "height": 605
        },
        "outputId": "84a73156-817f-499b-a817-7525c2876159"
      },
      "execution_count": 155,
      "outputs": [
        {
          "output_type": "display_data",
          "data": {
            "text/plain": [
              "<Figure size 1800x800 with 2 Axes>"
            ],
            "image/png": "[encoded data removed]"
          },
          "metadata": {}
        }
      ]
    },
    {
      "cell_type": "markdown",
      "source": [
        "##### 1. Why did you pick the specific chart?"
      ],
      "metadata": {
        "id": "t27r6nlMphqO"
      }
    },
    {
      "cell_type": "markdown",
      "source": [
        "Counts plot gives the no of booking in a particular room type while Boxplot gives the distributin of room type with adr."
      ],
      "metadata": {
        "id": "iv6ro40sphqO"
      }
    },
    {
      "cell_type": "markdown",
      "source": [
        "##### 2. What is/are the insight(s) found from the chart?"
      ],
      "metadata": {
        "id": "r2jJGEOYphqO"
      }
    },
    {
      "cell_type": "markdown",
      "source": [
        "Most demanded room type is A, but better adr rooms are of type H, G and F."
      ],
      "metadata": {
        "id": "Po6ZPi4hphqO"
      }
    },
    {
      "cell_type": "markdown",
      "source": [
        "##### 3. Will the gained insights help creating a positive business impact?\n",
        "Are there any insights that lead to negative growth? Justify with specific reason."
      ],
      "metadata": {
        "id": "b0JNsNcRphqO"
      }
    },
    {
      "cell_type": "markdown",
      "source": [
        "Knowing which room types generate a higher Average Daily Rate (ADR) can provide valuable insights into how to improve your hotel business. Here are some strategies we can consider:\n",
        "\n",
        "- Pricing Strategy:If certain room types consistently generate a higher ADR, consider raising the prices for those room categories during peak seasons or high-demand periods.\n",
        "\n",
        "- Promote High-ADR Rooms: Encourage guests to upgrade to higher-ADR room types during the booking process or at check-in. Offer incentives, such as discounts or complimentary amenities, to entice guests to choose these rooms.\n",
        "\n",
        "- Enhanced Services:Personalized Service: Provide personalized and exceptional service to guests staying in high-ADR rooms.\n",
        "\n",
        "- Maintenance and Upkeep: Ensure that high-ADR rooms are well-maintained and regularly updated to meet or exceed guest expectations.\n",
        "\n"
      ],
      "metadata": {
        "id": "xvSq8iUTphqO"
      }
    },
    {
      "cell_type": "markdown",
      "source": [
        "#### Chart - 8"
      ],
      "metadata": {
        "id": "BZR9WyysphqO"
      }
    },
    {
      "cell_type": "code",
      "source": [
        "# Chart - 8 visualization code\n",
        "sns.countplot(x = df1['meal'])\n",
        "\n",
        "plt.title(\"Most liked meal\", fontsize = 15)\n",
        "plt.ylabel(\"No of orders\", fontsize = 15)\n",
        "plt.xlabel(\"Meal\", fontsize = 15)\n",
        "plt.show()"
      ],
      "metadata": {
        "id": "TdPTWpAVphqO",
        "colab": {
          "base_uri": "https://localhost:8080/",
          "height": 480
        },
        "outputId": "9e9b9de7-a192-4795-cf31-281070c5fe26"
      },
      "execution_count": 161,
      "outputs": [
        {
          "output_type": "display_data",
          "data": {
            "text/plain": [
              "<Figure size 640x480 with 1 Axes>"
            ],
            "image/png": "[encoded data removed]"
          },
          "metadata": {}
        }
      ]
    },
    {
      "cell_type": "code",
      "source": [
        "df1.meal.unique()"
      ],
      "metadata": {
        "colab": {
          "base_uri": "https://localhost:8080/"
        },
        "id": "Ww2iChjzPcq_",
        "outputId": "d1b7f52a-d0b8-47ec-a77d-2bb9af631a8f"
      },
      "execution_count": 159,
      "outputs": [
        {
          "output_type": "execute_result",
          "data": {
            "text/plain": [
              "array(['BB', 'FB', 'HB', 'SC', 'Undefined'], dtype=object)"
            ]
          },
          "metadata": {},
          "execution_count": 159
        }
      ]
    },
    {
      "cell_type": "markdown",
      "source": [
        "##### 1. Why did you pick the specific chart?"
      ],
      "metadata": {
        "id": "jj7wYXLtphqO"
      }
    },
    {
      "cell_type": "markdown",
      "source": [
        "Countplot gives the count of number of meal ordered from a specific type and compare with other type."
      ],
      "metadata": {
        "id": "Ob8u6rCTphqO"
      }
    },
    {
      "cell_type": "markdown",
      "source": [
        "##### 2. What is/are the insight(s) found from the chart?"
      ],
      "metadata": {
        "id": "eZrbJ2SmphqO"
      }
    },
    {
      "cell_type": "markdown",
      "source": [
        "The most preffered and ordered meal is BB.\n",
        "\n",
        "BB (Bed and Breakfast): This meal plan usually includes accommodations (the bed) and breakfast. Guests receive breakfast as part of their stay, often served in a designated dining area of the hotel."
      ],
      "metadata": {
        "id": "mZtgC_hjphqO"
      }
    },
    {
      "cell_type": "markdown",
      "source": [
        "##### 3. Will the gained insights help creating a positive business impact?\n",
        "Are there any insights that lead to negative growth? Justify with specific reason."
      ],
      "metadata": {
        "id": "rFu4xreNphqO"
      }
    },
    {
      "cell_type": "markdown",
      "source": [
        "Impact the business and how it can be improved:\n",
        "-\n",
        "Attracting Guests: A popular BB option can attract more guests to your hotel since it offers a convenient and cost-effective way for travelers to start their day with breakfast included.\n",
        "\n",
        "- Revenue Stability: BB packages provide a steady source of revenue, especially during weekdays and off-peak seasons when guests are less likely to dine at the hotel's restaurants for other meals.\n",
        "\n",
        "- Customer Satisfaction: A well-executed BB plan can enhance guest satisfaction, as it simplifies their stay by offering a complimentary breakfast. Positive guest experiences can lead to repeat bookings and word-of-mouth referrals.\n",
        "\n",
        "Negative Impacts:\n",
        "\n",
        "- Potential for Lower Profit Margins: While BB plans attract guests, they may have lower profit margins compared to Full Board (FB) or Half Board (HB) plans, where additional meals are charged at higher rates.\n",
        "\n",
        "- Demand Fluctuations: Relying heavily on BB may lead to demand fluctuations during breakfast hours, potentially overcrowding dining areas during peak times and underutilizing them during off-peak periods.\n",
        "\n"
      ],
      "metadata": {
        "id": "ey_0qi68phqO"
      }
    },
    {
      "cell_type": "markdown",
      "source": [
        "#### Chart - 9"
      ],
      "metadata": {
        "id": "YJ55k-q6phqO"
      }
    },
    {
      "cell_type": "code",
      "source": [
        "# Chart - 9 visualization code\n",
        "c9 = df1.groupby('hotel')['adr'].agg(np.mean).reset_index().rename(columns = {'adr':'avg_adr'})   # calculating average adr\n",
        "# plt.figure(figsize = (8,5))\n",
        "sns.barplot(x = c9['hotel'], y = c9['avg_adr'], width =0.3 )\n",
        "\n",
        "plt.title(\"Type of hotel generating highest ADR\")\n",
        "plt.show()"
      ],
      "metadata": {
        "id": "B2aS4O1ophqO",
        "colab": {
          "base_uri": "https://localhost:8080/",
          "height": 472
        },
        "outputId": "b9bb1f91-1ec1-4f83-ca9a-4261c276fb78"
      },
      "execution_count": 167,
      "outputs": [
        {
          "output_type": "display_data",
          "data": {
            "text/plain": [
              "<Figure size 640x480 with 1 Axes>"
            ],
            "image/png": "[encoded data removed]"
          },
          "metadata": {}
        }
      ]
    },
    {
      "cell_type": "markdown",
      "source": [
        "##### 1. Why did you pick the specific chart?"
      ],
      "metadata": {
        "id": "gCFgpxoyphqP"
      }
    },
    {
      "cell_type": "markdown",
      "source": [
        "Using Bargraph revenue generated by each type of hotel can be visualized easily."
      ],
      "metadata": {
        "id": "TVxDimi2phqP"
      }
    },
    {
      "cell_type": "markdown",
      "source": [
        "##### 2. What is/are the insight(s) found from the chart?"
      ],
      "metadata": {
        "id": "OVtJsKN_phqQ"
      }
    },
    {
      "cell_type": "markdown",
      "source": [
        "City Hotel genererates highest revenue."
      ],
      "metadata": {
        "id": "ngGi97qjphqQ"
      }
    },
    {
      "cell_type": "markdown",
      "source": [
        "##### 3. Will the gained insights help creating a positive business impact?\n",
        "Are there any insights that lead to negative growth? Justify with specific reason."
      ],
      "metadata": {
        "id": "lssrdh5qphqQ"
      }
    },
    {
      "cell_type": "markdown",
      "source": [
        " Positive Impacts:\n",
        "- Revenue Maximization: The CITY HOTEL's ability to generate the highest revenue is a positive sign for the business. It indicates that this segment of your offering is highly profitable and in demand.\n",
        "- Knowing that CITY HOTEL generates the most revenue, you can allocate more marketing resources and efforts toward promoting this segment to continue its success.\n",
        "\n",
        "Challenges and Considerations:\n",
        "\n",
        "- Relying heavily on one segment can be risky. Explore opportunities to diversify your offerings, perhaps by enhancing the RESORT HOTEL's appeal or introducing new hotel types or services to attract different clientele.\n",
        "\n",
        "- Gather feedback from guests who choose CITY HOTEL. Understand what aspects of it they find appealing and use this information to enhance services and amenities.\n",
        "\n"
      ],
      "metadata": {
        "id": "tBpY5ekJphqQ"
      }
    },
    {
      "cell_type": "markdown",
      "source": [
        "#### Chart - 10"
      ],
      "metadata": {
        "id": "U2RJ9gkRphqQ"
      }
    },
    {
      "cell_type": "code",
      "source": [
        "c10 = df1.groupby('distribution_channel').size().reset_index().rename(columns= {0 : 'no of booking'})\n",
        "c10\n",
        "# d1 = pd.DataFrame(round((group_by_dc.size()/df1.shape[0])*100,2)).reset_index().rename(columns = {0: 'Booking_%'})\n",
        "plt.figure(figsize = (8,8))\n",
        "# data = d1['Booking_%']\n",
        "# labels = d1['distribution_channel']\n",
        "plt.pie(c10['no of booking'] , autopct=\"%.2f%%\", labels=c10['distribution_channel'], radius = 1.1)\n",
        "plt.title(\"Booking % by distribution channels\", fontsize=14)\n",
        "plt.legend(loc = 'center')\n",
        "plt.show()"
      ],
      "metadata": {
        "id": "GM7a4YP4phqQ",
        "colab": {
          "base_uri": "https://localhost:8080/",
          "height": 676
        },
        "outputId": "60ae829e-2505-4652-ee8e-3d9fbd336dda"
      },
      "execution_count": 195,
      "outputs": [
        {
          "output_type": "display_data",
          "data": {
            "text/plain": [
              "<Figure size 800x800 with 1 Axes>"
            ],
            "image/png": "[encoded data removed]"
          },
          "metadata": {}
        }
      ]
    },
    {
      "cell_type": "markdown",
      "source": [
        "##### 1. Why did you pick the specific chart?"
      ],
      "metadata": {
        "id": "1M8mcRywphqQ"
      }
    },
    {
      "cell_type": "markdown",
      "source": [
        "Pieplot helps easy visualization of booking percentage by distribution channel."
      ],
      "metadata": {
        "id": "8agQvks0phqQ"
      }
    },
    {
      "cell_type": "markdown",
      "source": [
        "##### 2. What is/are the insight(s) found from the chart?"
      ],
      "metadata": {
        "id": "tgIPom80phqQ"
      }
    },
    {
      "cell_type": "markdown",
      "source": [
        "Travel Agents (TA) and Tour Operators (TO) is mostly used  for planning hotel bookings."
      ],
      "metadata": {
        "id": "Qp13pnNzphqQ"
      }
    },
    {
      "cell_type": "markdown",
      "source": [
        "##### 3. Will the gained insights help creating a positive business impact?\n",
        "Are there any insights that lead to negative growth? Justify with specific reason."
      ],
      "metadata": {
        "id": "JMzcOPDDphqR"
      }
    },
    {
      "cell_type": "markdown",
      "source": [
        "Positive Impacts:\n",
        "\n",
        "- Partnering with travel agents and tour operators can significantly increase the volume of bookings, especially if they have an established customer base. This can lead to higher occupancy rates and revenue.\n",
        "\n",
        "- TAs and TOs often have access to a broad and diverse customer base. This can help hotels reach international or niche markets that they might not have access to otherwise.\n",
        "\n",
        "-  Collaboration with TAs and TOs can result in co-marketing opportunities, expanding the hotel's visibility and attracting a wider audience.\n",
        "\n",
        "\n",
        "Negative Impacts and Considerations:\n",
        "\n",
        "- Commissions: TAs and TOs typically charge commissions or fees for their services. This can reduce the hotel's profit margin on bookings made through them.\n",
        "\n",
        "- Discounting: To attract business from TAs and TOs, hotels may need to offer discounts or special rates, which can affect the Average Daily Rate (ADR) and overall revenue per available room (RevPAR).\n",
        "\n",
        "- Bookings made through TAs and TOs may result in less direct interaction with guests, making it challenging to build relationships and gather direct feedback.\n",
        "\n",
        "- Overreliance on TAs and TOs can be risky. If a major partner changes terms or goes out of business, it can have a significant negative impact on the hotel's business."
      ],
      "metadata": {
        "id": "R4Ka1PC2phqR"
      }
    },
    {
      "cell_type": "markdown",
      "source": [
        "#### Chart - 11"
      ],
      "metadata": {
        "id": "x-EpHcCOp1ci"
      }
    },
    {
      "cell_type": "code",
      "source": [
        "# Chart - 11 visualization code"
      ],
      "metadata": {
        "id": "mAQTIvtqp1cj"
      },
      "execution_count": 40,
      "outputs": []
    },
    {
      "cell_type": "markdown",
      "source": [
        "##### 1. Why did you pick the specific chart?"
      ],
      "metadata": {
        "id": "X_VqEhTip1ck"
      }
    },
    {
      "cell_type": "markdown",
      "source": [
        "Answer Here."
      ],
      "metadata": {
        "id": "-vsMzt_np1ck"
      }
    },
    {
      "cell_type": "markdown",
      "source": [
        "##### 2. What is/are the insight(s) found from the chart?"
      ],
      "metadata": {
        "id": "8zGJKyg5p1ck"
      }
    },
    {
      "cell_type": "markdown",
      "source": [
        "Answer Here"
      ],
      "metadata": {
        "id": "ZYdMsrqVp1ck"
      }
    },
    {
      "cell_type": "markdown",
      "source": [
        "##### 3. Will the gained insights help creating a positive business impact?\n",
        "Are there any insights that lead to negative growth? Justify with specific reason."
      ],
      "metadata": {
        "id": "PVzmfK_Ep1ck"
      }
    },
    {
      "cell_type": "markdown",
      "source": [
        "Answer Here"
      ],
      "metadata": {
        "id": "druuKYZpp1ck"
      }
    },
    {
      "cell_type": "markdown",
      "source": [
        "#### Chart - 12"
      ],
      "metadata": {
        "id": "n3dbpmDWp1ck"
      }
    },
    {
      "cell_type": "code",
      "source": [
        "# Chart - 12 visualization code"
      ],
      "metadata": {
        "id": "bwevp1tKp1ck"
      },
      "execution_count": 41,
      "outputs": []
    },
    {
      "cell_type": "markdown",
      "source": [
        "##### 1. Why did you pick the specific chart?"
      ],
      "metadata": {
        "id": "ylSl6qgtp1ck"
      }
    },
    {
      "cell_type": "markdown",
      "source": [
        "Answer Here."
      ],
      "metadata": {
        "id": "m2xqNkiQp1ck"
      }
    },
    {
      "cell_type": "markdown",
      "source": [
        "##### 2. What is/are the insight(s) found from the chart?"
      ],
      "metadata": {
        "id": "ZWILFDl5p1ck"
      }
    },
    {
      "cell_type": "markdown",
      "source": [
        "Answer Here"
      ],
      "metadata": {
        "id": "x-lUsV2mp1ck"
      }
    },
    {
      "cell_type": "markdown",
      "source": [
        "##### 3. Will the gained insights help creating a positive business impact?\n",
        "Are there any insights that lead to negative growth? Justify with specific reason."
      ],
      "metadata": {
        "id": "M7G43BXep1ck"
      }
    },
    {
      "cell_type": "markdown",
      "source": [
        "Answer Here"
      ],
      "metadata": {
        "id": "5wwDJXsLp1cl"
      }
    },
    {
      "cell_type": "markdown",
      "source": [
        "#### Chart - 13"
      ],
      "metadata": {
        "id": "Ag9LCva-p1cl"
      }
    },
    {
      "cell_type": "code",
      "source": [
        "# Chart - 13 visualization code"
      ],
      "metadata": {
        "id": "EUfxeq9-p1cl"
      },
      "execution_count": 42,
      "outputs": []
    },
    {
      "cell_type": "markdown",
      "source": [
        "##### 1. Why did you pick the specific chart?"
      ],
      "metadata": {
        "id": "E6MkPsBcp1cl"
      }
    },
    {
      "cell_type": "markdown",
      "source": [
        "Answer Here."
      ],
      "metadata": {
        "id": "V22bRsFWp1cl"
      }
    },
    {
      "cell_type": "markdown",
      "source": [
        "##### 2. What is/are the insight(s) found from the chart?"
      ],
      "metadata": {
        "id": "2cELzS2fp1cl"
      }
    },
    {
      "cell_type": "markdown",
      "source": [
        "Answer Here"
      ],
      "metadata": {
        "id": "ozQPc2_Ip1cl"
      }
    },
    {
      "cell_type": "markdown",
      "source": [
        "##### 3. Will the gained insights help creating a positive business impact?\n",
        "Are there any insights that lead to negative growth? Justify with specific reason."
      ],
      "metadata": {
        "id": "3MPXvC8up1cl"
      }
    },
    {
      "cell_type": "markdown",
      "source": [
        "Answer Here"
      ],
      "metadata": {
        "id": "GL8l1tdLp1cl"
      }
    },
    {
      "cell_type": "markdown",
      "source": [
        "#### Chart - 14 - Correlation Heatmap"
      ],
      "metadata": {
        "id": "NC_X3p0fY2L0"
      }
    },
    {
      "cell_type": "code",
      "source": [
        "# Correlation Heatmap visualization code"
      ],
      "metadata": {
        "id": "xyC9zolEZNRQ"
      },
      "execution_count": 43,
      "outputs": []
    },
    {
      "cell_type": "markdown",
      "source": [
        "##### 1. Why did you pick the specific chart?"
      ],
      "metadata": {
        "id": "UV0SzAkaZNRQ"
      }
    },
    {
      "cell_type": "markdown",
      "source": [
        "Answer Here."
      ],
      "metadata": {
        "id": "DVPuT8LYZNRQ"
      }
    },
    {
      "cell_type": "markdown",
      "source": [
        "##### 2. What is/are the insight(s) found from the chart?"
      ],
      "metadata": {
        "id": "YPEH6qLeZNRQ"
      }
    },
    {
      "cell_type": "markdown",
      "source": [
        "Answer Here"
      ],
      "metadata": {
        "id": "bfSqtnDqZNRR"
      }
    },
    {
      "cell_type": "markdown",
      "source": [
        "#### Chart - 15 - Pair Plot"
      ],
      "metadata": {
        "id": "q29F0dvdveiT"
      }
    },
    {
      "cell_type": "code",
      "source": [
        "# Pair Plot visualization code"
      ],
      "metadata": {
        "id": "o58-TEIhveiU"
      },
      "execution_count": 44,
      "outputs": []
    },
    {
      "cell_type": "markdown",
      "source": [
        "##### 1. Why did you pick the specific chart?"
      ],
      "metadata": {
        "id": "EXh0U9oCveiU"
      }
    },
    {
      "cell_type": "markdown",
      "source": [
        "Answer Here."
      ],
      "metadata": {
        "id": "eMmPjTByveiU"
      }
    },
    {
      "cell_type": "markdown",
      "source": [
        "##### 2. What is/are the insight(s) found from the chart?"
      ],
      "metadata": {
        "id": "22aHeOlLveiV"
      }
    },
    {
      "cell_type": "markdown",
      "source": [
        "Answer Here"
      ],
      "metadata": {
        "id": "uPQ8RGwHveiV"
      }
    },
    {
      "cell_type": "markdown",
      "source": [
        "## **5. Solution to Business Objective**"
      ],
      "metadata": {
        "id": "JcMwzZxoAimU"
      }
    },
    {
      "cell_type": "markdown",
      "source": [
        "#### What do you suggest the client to achieve Business Objective ?\n",
        "Explain Briefly."
      ],
      "metadata": {
        "id": "8G2x9gOozGDZ"
      }
    },
    {
      "cell_type": "markdown",
      "source": [
        "Answer Here."
      ],
      "metadata": {
        "id": "pASKb0qOza21"
      }
    },
    {
      "cell_type": "markdown",
      "source": [
        "# **Conclusion**"
      ],
      "metadata": {
        "id": "gCX9965dhzqZ"
      }
    },
    {
      "cell_type": "markdown",
      "source": [
        "Write the conclusion here."
      ],
      "metadata": {
        "id": "Fjb1IsQkh3yE"
      }
    },
    {
      "cell_type": "markdown",
      "source": [
        "### ***Hurrah! You have successfully completed your EDA Capstone Project !!!***"
      ],
      "metadata": {
        "id": "gIfDvo9L0UH2"
      }
    }
  ]
}